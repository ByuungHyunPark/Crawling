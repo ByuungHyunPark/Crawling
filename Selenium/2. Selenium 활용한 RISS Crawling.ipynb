{
 "cells": [
  {
   "cell_type": "markdown",
   "metadata": {},
   "source": [
    "- 총 2445개\n",
    "- \"빅데이터\" 검색,  KCI 등재(실행)\n",
    "- http://www.riss.kr/search/Search.do?isDetailSearch=N&searchGubun=true&viewYn=OP&queryText=&strQuery=%22%EB%B9%85%EB%8D%B0%EC%9D%B4%ED%84%B0%22&exQuery=regnm%3AKCI%EB%93%B1%EC%9E%AC%E2%97%88&exQueryText=%EB%93%B1%EC%9E%AC%EC%A0%95%EB%B3%B4+%5BKCI%EB%93%B1%EC%9E%AC%5D%40%40regnm%3AKCI%EB%93%B1%EC%9E%AC%E2%97%88&order=%2FDESC&onHanja=false&strSort=RANK&p_year1=&p_year2=&iStartCount=2400&orderBy=&fsearchMethod=search&sflag=1&isFDetailSearch=N&pageNumber=&resultKeyword=&fsearchSort=&fsearchOrder=&limiterList=&limiterListText=&facetList=&facetListText=&fsearchDB=&icate=re_a_kor&colName=re_a_kor&pageScale=100&isTab=Y&query=%22%EB%B9%85%EB%8D%B0%EC%9D%B4%ED%84%B0%22"
   ]
  },
  {
   "cell_type": "markdown",
   "metadata": {},
   "source": [
    "'http://www.riss.kr/search/Search.do?isDetailSearch=N&searchGubun=true&viewYn=OP&queryText=&strQuery=%22%EB%B9%85%EB%8D%B0%EC%9D%B4%ED%84%B0%22\\\n",
    "            &exQuery=regnm%3AKCI%EB%93%B1%EC%9E%AC%E2%97%88&exQueryText=%EB%93%B1%EC%9E%AC%EC%A0%95%EB%B3%B4+%5BKCI%EB%93%B1%EC%9E%AC%5D%40%40regnm%3AKCI%EB%93%B1%EC%9E%AC%E2%97%88\\\n",
    "            &order=%2FDESC&onHanja=false&strSort=RANK&p_year1=&p_year2=\\\n",
    "            &iStartCount={}\\\n",
    "            &orderBy=&fsearchMethod=search&sflag=1&isFDetailSearch=N&pageNumber=\\\n",
    "            &resultKeyword=&fsearchSort=&fsearchOrder=&limiterList=&limiterListText=&facetList=&facetListText=&fsearchDB=&icate=re_a_kor&colName=re_a_kor\\\n",
    "            &pageScale=100&isTab=Y&query=%22%EB%B9%85%EB%8D%B0%EC%9D%B4%ED%84%B0%22\\'.format(i)"
   ]
  },
  {
   "cell_type": "code",
   "execution_count": 1,
   "metadata": {},
   "outputs": [],
   "source": [
    "import pandas as pd\n",
    "import numpy as np\n",
    "\n",
    "#!pip install tqdm\n",
    "from tqdm import tqdm\n",
    "import lxml.html\n",
    "import requests\n"
   ]
  },
  {
   "cell_type": "markdown",
   "metadata": {},
   "source": [
    "2463개의 빅데이터 관련 논문 url 크롤링\n",
    "- 한 페이지당 100개의 논문 존재\n",
    "- 따라서 , 총 25개의 페이지를 requets\n",
    "- 논문의 수는 매일 변화함"
   ]
  },
  {
   "cell_type": "code",
   "execution_count": 2,
   "metadata": {},
   "outputs": [
    {
     "name": "stderr",
     "output_type": "stream",
     "text": [
      "100%|██████████████████████████████████████████████████████████████████████████████████| 25/25 [00:21<00:00,  1.17it/s]"
     ]
    },
    {
     "name": "stdout",
     "output_type": "stream",
     "text": [
      "총 url 개수 :  2463\n"
     ]
    },
    {
     "name": "stderr",
     "output_type": "stream",
     "text": [
      "\n"
     ]
    }
   ],
   "source": [
    "page = list(range(0, 2500, 100))\n",
    "\n",
    "RISS_url_list = []\n",
    "\n",
    "for i in tqdm(page):\n",
    "    \n",
    "    url = 'http://www.riss.kr/search/Search.do?isDetailSearch=N&searchGubun=true&viewYn=OP&queryText=&strQuery=%22%EB%B9%85%EB%8D%B0%EC%9D%B4%ED%84%B0%22&exQuery=regnm%3AKCI%EB%93%B1%EC%9E%AC%E2%97%88&exQueryText=%EB%93%B1%EC%9E%AC%EC%A0%95%EB%B3%B4+%5BKCI%EB%93%B1%EC%9E%AC%5D%40%40regnm%3AKCI%EB%93%B1%EC%9E%AC%E2%97%88&order=%2FDESC&onHanja=false&strSort=RANK&p_year1=&p_year2=''&iStartCount={}&orderBy=&fsearchMethod=search&sflag=1&isFDetailSearch=N&pageNumber=&resultKeyword=&fsearchSort=&fsearchOrder=&limiterList=&limiterListText=&facetList=&facetListText=&fsearchDB=&icate=re_a_kor&colName=re_a_kor&pageScale=100&isTab=Y&query=%22%EB%B9%85%EB%8D%B0%EC%9D%B4%ED%84%B0%22'\\\n",
    "                    .format(i)\n",
    "    \n",
    "    response = requests.get(url)\n",
    "\n",
    "    root = lxml.html.fromstring(response.content)\n",
    "\n",
    "    for li in root.xpath('//*[@id=\"divContent\"]/div[2]/div/div[3]/div[2]/ul/li'):\n",
    "        a = li.xpath('div[2]/p[1]/a')[0]\n",
    "        url = a.get('href')\n",
    "        RISS_url_list.append('http://www.riss.kr' + url)\n",
    "\n",
    "print('총 url 개수 : ', len(np.unique(RISS_url_list)))\n"
   ]
  },
  {
   "cell_type": "markdown",
   "metadata": {},
   "source": [
    "# 크롤링 내용들 넣을 데이터프레임 생성\n",
    "1. 제목\n",
    "2. 발행연도\n",
    "3. 주제어\n",
    "4. 발행기관\n",
    "5. 상세조회수\n",
    "6. 다운로드\n",
    "7. KCI 피인용횟수"
   ]
  },
  {
   "cell_type": "code",
   "execution_count": 30,
   "metadata": {
    "scrolled": true
   },
   "outputs": [
    {
     "data": {
      "text/plain": [
       "['http://www.riss.kr/search/detail/DetailView.do?p_mat_type=1a0202e37d52c72d&control_no=f6cb85e31578ecd84884a65323211ff0',\n",
       " 'http://www.riss.kr/search/detail/DetailView.do?p_mat_type=1a0202e37d52c72d&control_no=e544147e8f193f037ecd42904f0c5d65',\n",
       " 'http://www.riss.kr/search/detail/DetailView.do?p_mat_type=1a0202e37d52c72d&control_no=37a6deaebdfec22bd18150b21a227875',\n",
       " 'http://www.riss.kr/search/detail/DetailView.do?p_mat_type=1a0202e37d52c72d&control_no=08510ea66878089d4884a65323211ff0',\n",
       " 'http://www.riss.kr/search/detail/DetailView.do?p_mat_type=1a0202e37d52c72d&control_no=415b9a2c361b82677f7a54760bb41745',\n",
       " 'http://www.riss.kr/search/detail/DetailView.do?p_mat_type=1a0202e37d52c72d&control_no=750706c19b84dd23d18150b21a227875',\n",
       " 'http://www.riss.kr/search/detail/DetailView.do?p_mat_type=1a0202e37d52c72d&control_no=0b433c70dbad63c86aae8a972f9116fb',\n",
       " 'http://www.riss.kr/search/detail/DetailView.do?p_mat_type=1a0202e37d52c72d&control_no=4195865c42c01f77b36097776a77e665',\n",
       " 'http://www.riss.kr/search/detail/DetailView.do?p_mat_type=1a0202e37d52c72d&control_no=da5cc339715253a1ffe0bdc3ef48d419',\n",
       " 'http://www.riss.kr/search/detail/DetailView.do?p_mat_type=1a0202e37d52c72d&control_no=6e701fa51c15137be9810257f7042666']"
      ]
     },
     "execution_count": 30,
     "metadata": {},
     "output_type": "execute_result"
    }
   ],
   "source": [
    "RISS_url_list[:10]"
   ]
  },
  {
   "cell_type": "code",
   "execution_count": 4,
   "metadata": {},
   "outputs": [
    {
     "data": {
      "text/html": [
       "<div>\n",
       "<style scoped>\n",
       "    .dataframe tbody tr th:only-of-type {\n",
       "        vertical-align: middle;\n",
       "    }\n",
       "\n",
       "    .dataframe tbody tr th {\n",
       "        vertical-align: top;\n",
       "    }\n",
       "\n",
       "    .dataframe thead th {\n",
       "        text-align: right;\n",
       "    }\n",
       "</style>\n",
       "<table border=\"1\" class=\"dataframe\">\n",
       "  <thead>\n",
       "    <tr style=\"text-align: right;\">\n",
       "      <th></th>\n",
       "      <th>url</th>\n",
       "      <th>제목</th>\n",
       "      <th>발행연도</th>\n",
       "      <th>주제어</th>\n",
       "      <th>발행기관</th>\n",
       "      <th>상세조회수</th>\n",
       "      <th>다운로드수</th>\n",
       "      <th>KCI 피인용횟수</th>\n",
       "    </tr>\n",
       "  </thead>\n",
       "  <tbody>\n",
       "    <tr>\n",
       "      <th>0</th>\n",
       "      <td>http://www.riss.kr/search/detail/DetailView.do...</td>\n",
       "      <td>.</td>\n",
       "      <td>.</td>\n",
       "      <td>.</td>\n",
       "      <td>.</td>\n",
       "      <td>.</td>\n",
       "      <td>.</td>\n",
       "      <td>.</td>\n",
       "    </tr>\n",
       "    <tr>\n",
       "      <th>1</th>\n",
       "      <td>http://www.riss.kr/search/detail/DetailView.do...</td>\n",
       "      <td>.</td>\n",
       "      <td>.</td>\n",
       "      <td>.</td>\n",
       "      <td>.</td>\n",
       "      <td>.</td>\n",
       "      <td>.</td>\n",
       "      <td>.</td>\n",
       "    </tr>\n",
       "    <tr>\n",
       "      <th>2</th>\n",
       "      <td>http://www.riss.kr/search/detail/DetailView.do...</td>\n",
       "      <td>.</td>\n",
       "      <td>.</td>\n",
       "      <td>.</td>\n",
       "      <td>.</td>\n",
       "      <td>.</td>\n",
       "      <td>.</td>\n",
       "      <td>.</td>\n",
       "    </tr>\n",
       "    <tr>\n",
       "      <th>3</th>\n",
       "      <td>http://www.riss.kr/search/detail/DetailView.do...</td>\n",
       "      <td>.</td>\n",
       "      <td>.</td>\n",
       "      <td>.</td>\n",
       "      <td>.</td>\n",
       "      <td>.</td>\n",
       "      <td>.</td>\n",
       "      <td>.</td>\n",
       "    </tr>\n",
       "    <tr>\n",
       "      <th>4</th>\n",
       "      <td>http://www.riss.kr/search/detail/DetailView.do...</td>\n",
       "      <td>.</td>\n",
       "      <td>.</td>\n",
       "      <td>.</td>\n",
       "      <td>.</td>\n",
       "      <td>.</td>\n",
       "      <td>.</td>\n",
       "      <td>.</td>\n",
       "    </tr>\n",
       "    <tr>\n",
       "      <th>...</th>\n",
       "      <td>...</td>\n",
       "      <td>...</td>\n",
       "      <td>...</td>\n",
       "      <td>...</td>\n",
       "      <td>...</td>\n",
       "      <td>...</td>\n",
       "      <td>...</td>\n",
       "      <td>...</td>\n",
       "    </tr>\n",
       "    <tr>\n",
       "      <th>2458</th>\n",
       "      <td>http://www.riss.kr/search/detail/DetailView.do...</td>\n",
       "      <td>.</td>\n",
       "      <td>.</td>\n",
       "      <td>.</td>\n",
       "      <td>.</td>\n",
       "      <td>.</td>\n",
       "      <td>.</td>\n",
       "      <td>.</td>\n",
       "    </tr>\n",
       "    <tr>\n",
       "      <th>2459</th>\n",
       "      <td>http://www.riss.kr/search/detail/DetailView.do...</td>\n",
       "      <td>.</td>\n",
       "      <td>.</td>\n",
       "      <td>.</td>\n",
       "      <td>.</td>\n",
       "      <td>.</td>\n",
       "      <td>.</td>\n",
       "      <td>.</td>\n",
       "    </tr>\n",
       "    <tr>\n",
       "      <th>2460</th>\n",
       "      <td>http://www.riss.kr/search/detail/DetailView.do...</td>\n",
       "      <td>.</td>\n",
       "      <td>.</td>\n",
       "      <td>.</td>\n",
       "      <td>.</td>\n",
       "      <td>.</td>\n",
       "      <td>.</td>\n",
       "      <td>.</td>\n",
       "    </tr>\n",
       "    <tr>\n",
       "      <th>2461</th>\n",
       "      <td>http://www.riss.kr/search/detail/DetailView.do...</td>\n",
       "      <td>.</td>\n",
       "      <td>.</td>\n",
       "      <td>.</td>\n",
       "      <td>.</td>\n",
       "      <td>.</td>\n",
       "      <td>.</td>\n",
       "      <td>.</td>\n",
       "    </tr>\n",
       "    <tr>\n",
       "      <th>2462</th>\n",
       "      <td>http://www.riss.kr/search/detail/DetailView.do...</td>\n",
       "      <td>.</td>\n",
       "      <td>.</td>\n",
       "      <td>.</td>\n",
       "      <td>.</td>\n",
       "      <td>.</td>\n",
       "      <td>.</td>\n",
       "      <td>.</td>\n",
       "    </tr>\n",
       "  </tbody>\n",
       "</table>\n",
       "<p>2463 rows × 8 columns</p>\n",
       "</div>"
      ],
      "text/plain": [
       "                                                    url 제목 발행연도 주제어 발행기관  \\\n",
       "0     http://www.riss.kr/search/detail/DetailView.do...  .    .   .    .   \n",
       "1     http://www.riss.kr/search/detail/DetailView.do...  .    .   .    .   \n",
       "2     http://www.riss.kr/search/detail/DetailView.do...  .    .   .    .   \n",
       "3     http://www.riss.kr/search/detail/DetailView.do...  .    .   .    .   \n",
       "4     http://www.riss.kr/search/detail/DetailView.do...  .    .   .    .   \n",
       "...                                                 ... ..  ...  ..  ...   \n",
       "2458  http://www.riss.kr/search/detail/DetailView.do...  .    .   .    .   \n",
       "2459  http://www.riss.kr/search/detail/DetailView.do...  .    .   .    .   \n",
       "2460  http://www.riss.kr/search/detail/DetailView.do...  .    .   .    .   \n",
       "2461  http://www.riss.kr/search/detail/DetailView.do...  .    .   .    .   \n",
       "2462  http://www.riss.kr/search/detail/DetailView.do...  .    .   .    .   \n",
       "\n",
       "     상세조회수 다운로드수 KCI 피인용횟수  \n",
       "0        .     .         .  \n",
       "1        .     .         .  \n",
       "2        .     .         .  \n",
       "3        .     .         .  \n",
       "4        .     .         .  \n",
       "...    ...   ...       ...  \n",
       "2458     .     .         .  \n",
       "2459     .     .         .  \n",
       "2460     .     .         .  \n",
       "2461     .     .         .  \n",
       "2462     .     .         .  \n",
       "\n",
       "[2463 rows x 8 columns]"
      ]
     },
     "execution_count": 4,
     "metadata": {},
     "output_type": "execute_result"
    }
   ],
   "source": [
    "df = pd.DataFrame({'url' : RISS_url_list})\n",
    "\n",
    "df.loc[:, '제목'] = '.'            #1\n",
    "df.loc[:, '발행연도'] = '.'        #2 \n",
    "df.loc[:, '주제어'] = '.'          #3 \n",
    "df.loc[:, '발행기관'] = '.'        #4   \n",
    "df.loc[:, '상세조회수'] = '.'      #5\n",
    "df.loc[:, '다운로드수'] = '.'      #6\n",
    "df.loc[:, 'KCI 피인용횟수'] = '.'  #7\n",
    "\n",
    "df"
   ]
  },
  {
   "cell_type": "code",
   "execution_count": 5,
   "metadata": {},
   "outputs": [
    {
     "name": "stdout",
     "output_type": "stream",
     "text": [
      "b'<html>\\r\\n<body>\\r\\n<form name=\"f\" method=\"POST\" action=\"http://sso.riss.kr:11301/cdc_read_relay.jsp\">\\r\\n<input type=\"hidden\" name=\"SAMLRequest\" value=\"nVXbctMwEH3PV3jUR8a2lObSeOIwpS0kUKCTpB3oC6NKm0TgSEYrJ22/HtlJilNapvBgj2e1e85ezsr917fLLFiBRWV0SlhESQBaGKn0PCWX07fhEXk9aDT6yJdZnhwXbqHH8LMAdIGP1JhUBykprE4MR4WJ5kvAxIlkcvzxPGlGNMmtcUaYjGxC/u7MEcE6nw0JjnefJ0ZjsQQ7AbtSAi7H5ylZOJcncbxeryOrEKMfNsY8KmHOtMyN0o4Epz5NpbmratsGIJpdQMLYIWWxkOKbBS79K+N30XfMSTA6TUm73el0OYPwRrS6IdzITig6vV7YE0fQ7nRZT7K290QsYKTRce1S0qRNGtKjkLIpbSaHraTVvSbBxbYBb5TeNPZRA6J6A242TpgMp9OLcAxSWRCuAlkpCfaTj0gJZdF4NJk0aUQZCa52A/QAZNAIgn6Vlh3U3frx1lielygjeWEyJe6C4ywz6xPfA+eRnS2ABG+NXXL3/KhYxCqLkuGsck0KjTkINVMgyaAf1wkqRonJRM39NAoLW+1I3Jvj+jAydh43KaUx7cXeR6KaH1QF/QYAOdIzs7FtrCdcG60Ez9R9NeuP4BZG+qrmxiq3WD5DwmJGS5IQbkUoWEsflHk/i1dnfCjkhVR79SyWXIS44GxL9wiszjOGGVi/jxBcjkcpOXiRJHcAG4ip5RrLEeFv+6OTf0sf9Aoyk4MMcZf4tpAHwP9nemomNbBS2FpkBaoVlALDnAvA3bXyUkS/SjBTt+cKvcAPJMx4kbmgvMiqVx5ID4nSP6qs7AnGvQKfKX3fjvtTOVVzfzf9j3pqwqmDPAV/xbMCBgv26sx1zobXn4bjafy+0/tw1/x63v3Stq20BrNx3mkvrotvu387rdYXcG8ZNhD35vt4eHR18u5+OJs2i6/02r5bu6tp5zOm+3p/oNw3Dxr9+M/fzaDxCw==\">\\r\\n<input type=\"hidden\" name=\"RelayState\" value=\"http://www.riss.kr/search/detail/DetailView.do?p_mat_type=1a0202e37d52c72d&control_no=f6cb85e31578ecd84884a65323211ff0\">\\r\\n</form>\\r\\n<script language=\"javascript\">\\r\\nvar relay_flag = true;\\r\\nfunction goPost() { relay_flag = false; document.f.submit(); }\\r\\nfunction goRelay() { if(relay_flag) document.location.href = \"http://www.riss.kr/search/detail/DetailView.do?p_mat_type=1a0202e37d52c72d&control_no=f6cb85e31578ecd84884a65323211ff0\"; } \\r\\nsetTimeout(\"goRelay()\", 500);\\r\\n</script>\\r\\n<script language=\"javascript\" src=\"http://sso.riss.kr:11301/cdc_read_check.jsp\"></script>\\r\\n</body>\\r\\n</html>\\r\\n'\n"
     ]
    }
   ],
   "source": [
    "req = requests.get(df['url'][0])\n",
    "print(req.content)"
   ]
  },
  {
   "cell_type": "markdown",
   "metadata": {},
   "source": [
    "# sellinium"
   ]
  },
  {
   "cell_type": "code",
   "execution_count": 6,
   "metadata": {},
   "outputs": [],
   "source": [
    "from selenium import webdriver \n",
    "\n",
    "chromedriver = 'chromedriver.exe'\n",
    "driver = webdriver.Chrome(chromedriver)"
   ]
  },
  {
   "cell_type": "markdown",
   "metadata": {},
   "source": [
    "# 1번째 행의 url 사용해서 연습\n",
    "- a라는 변수에 임의의 하나의 url 넣어줌"
   ]
  },
  {
   "cell_type": "code",
   "execution_count": 7,
   "metadata": {},
   "outputs": [
    {
     "data": {
      "text/plain": [
       "'http://www.riss.kr/search/detail/DetailView.do?p_mat_type=1a0202e37d52c72d&control_no=f6cb85e31578ecd84884a65323211ff0'"
      ]
     },
     "execution_count": 7,
     "metadata": {},
     "output_type": "execute_result"
    }
   ],
   "source": [
    "a = df['url'][0]\n",
    "a"
   ]
  },
  {
   "cell_type": "markdown",
   "metadata": {},
   "source": [
    "##### a라는 url chromedriver로 실행"
   ]
  },
  {
   "cell_type": "code",
   "execution_count": 8,
   "metadata": {},
   "outputs": [],
   "source": [
    "import time\n",
    "from bs4 import BeautifulSoup\n",
    "import re\n",
    "\n",
    "driver.get(a);\n",
    "time.sleep(1)         # \n",
    "\n",
    "html = driver.page_source                 #driver가 html을 가져오고\n",
    "soup = BeautifulSoup(html, 'html.parser') #BeautifulSoup으로 파싱?? html 태그를 이쁘게 꾸며줌"
   ]
  },
  {
   "cell_type": "markdown",
   "metadata": {},
   "source": [
    "---"
   ]
  },
  {
   "cell_type": "code",
   "execution_count": 9,
   "metadata": {},
   "outputs": [
    {
     "data": {
      "text/plain": [
       "2463"
      ]
     },
     "execution_count": 9,
     "metadata": {},
     "output_type": "execute_result"
    }
   ],
   "source": [
    "len(np.unique(df['url']))"
   ]
  },
  {
   "cell_type": "code",
   "execution_count": 10,
   "metadata": {},
   "outputs": [
    {
     "data": {
      "text/html": [
       "<div>\n",
       "<style scoped>\n",
       "    .dataframe tbody tr th:only-of-type {\n",
       "        vertical-align: middle;\n",
       "    }\n",
       "\n",
       "    .dataframe tbody tr th {\n",
       "        vertical-align: top;\n",
       "    }\n",
       "\n",
       "    .dataframe thead th {\n",
       "        text-align: right;\n",
       "    }\n",
       "</style>\n",
       "<table border=\"1\" class=\"dataframe\">\n",
       "  <thead>\n",
       "    <tr style=\"text-align: right;\">\n",
       "      <th></th>\n",
       "      <th>url</th>\n",
       "      <th>제목</th>\n",
       "      <th>발행연도</th>\n",
       "      <th>주제어</th>\n",
       "      <th>발행기관</th>\n",
       "      <th>상세조회수</th>\n",
       "      <th>다운로드수</th>\n",
       "      <th>KCI 피인용횟수</th>\n",
       "    </tr>\n",
       "  </thead>\n",
       "  <tbody>\n",
       "    <tr>\n",
       "      <th>0</th>\n",
       "      <td>http://www.riss.kr/search/detail/DetailView.do...</td>\n",
       "      <td>.</td>\n",
       "      <td>.</td>\n",
       "      <td>.</td>\n",
       "      <td>.</td>\n",
       "      <td>.</td>\n",
       "      <td>.</td>\n",
       "      <td>.</td>\n",
       "    </tr>\n",
       "    <tr>\n",
       "      <th>1</th>\n",
       "      <td>http://www.riss.kr/search/detail/DetailView.do...</td>\n",
       "      <td>.</td>\n",
       "      <td>.</td>\n",
       "      <td>.</td>\n",
       "      <td>.</td>\n",
       "      <td>.</td>\n",
       "      <td>.</td>\n",
       "      <td>.</td>\n",
       "    </tr>\n",
       "    <tr>\n",
       "      <th>2</th>\n",
       "      <td>http://www.riss.kr/search/detail/DetailView.do...</td>\n",
       "      <td>.</td>\n",
       "      <td>.</td>\n",
       "      <td>.</td>\n",
       "      <td>.</td>\n",
       "      <td>.</td>\n",
       "      <td>.</td>\n",
       "      <td>.</td>\n",
       "    </tr>\n",
       "    <tr>\n",
       "      <th>3</th>\n",
       "      <td>http://www.riss.kr/search/detail/DetailView.do...</td>\n",
       "      <td>.</td>\n",
       "      <td>.</td>\n",
       "      <td>.</td>\n",
       "      <td>.</td>\n",
       "      <td>.</td>\n",
       "      <td>.</td>\n",
       "      <td>.</td>\n",
       "    </tr>\n",
       "    <tr>\n",
       "      <th>4</th>\n",
       "      <td>http://www.riss.kr/search/detail/DetailView.do...</td>\n",
       "      <td>.</td>\n",
       "      <td>.</td>\n",
       "      <td>.</td>\n",
       "      <td>.</td>\n",
       "      <td>.</td>\n",
       "      <td>.</td>\n",
       "      <td>.</td>\n",
       "    </tr>\n",
       "  </tbody>\n",
       "</table>\n",
       "</div>"
      ],
      "text/plain": [
       "                                                 url 제목 발행연도 주제어 발행기관 상세조회수  \\\n",
       "0  http://www.riss.kr/search/detail/DetailView.do...  .    .   .    .     .   \n",
       "1  http://www.riss.kr/search/detail/DetailView.do...  .    .   .    .     .   \n",
       "2  http://www.riss.kr/search/detail/DetailView.do...  .    .   .    .     .   \n",
       "3  http://www.riss.kr/search/detail/DetailView.do...  .    .   .    .     .   \n",
       "4  http://www.riss.kr/search/detail/DetailView.do...  .    .   .    .     .   \n",
       "\n",
       "  다운로드수 KCI 피인용횟수  \n",
       "0     .         .  \n",
       "1     .         .  \n",
       "2     .         .  \n",
       "3     .         .  \n",
       "4     .         .  "
      ]
     },
     "execution_count": 10,
     "metadata": {},
     "output_type": "execute_result"
    }
   ],
   "source": [
    "df.head()"
   ]
  },
  {
   "cell_type": "markdown",
   "metadata": {},
   "source": [
    "##### Column 하나씩 불러온 후 정규화 과정 진행\n",
    "1. 제목\n",
    "2. 발행연도\n",
    "3. 주제어\n",
    "4. 발행기관\n",
    "5. 상세조회수\n",
    "6. 다운로드수\n",
    "7. KCI 피인용횟수"
   ]
  },
  {
   "cell_type": "markdown",
   "metadata": {},
   "source": [
    "### 문제점 : Xpath로하면 안됨.. RISS측에서 막아둔듯"
   ]
  },
  {
   "cell_type": "markdown",
   "metadata": {},
   "source": [
    "#soptionview > div > div.thesisInfo > div.thesisInfoTop > h3"
   ]
  },
  {
   "cell_type": "code",
   "execution_count": 11,
   "metadata": {},
   "outputs": [
    {
     "data": {
      "text/plain": [
       "<selenium.webdriver.remote.webelement.WebElement (session=\"019fab8ae8317673af27cd6cfba92be5\", element=\"9e4b75a2-5078-441b-b59f-7fcf28eb319e\")>"
      ]
     },
     "execution_count": 11,
     "metadata": {},
     "output_type": "execute_result"
    }
   ],
   "source": [
    "driver.get(a)\n",
    "driver.implicitly_wait(5)\n",
    "driver.find_element_by_xpath('//*[@id=\"soptionview\"]/div/div[1]/div[1]/h3')\n",
    "\n",
    "#여기서 값이 나와야되는데 , 이상한값만 호출됨.\n",
    "#숨김처리된듯"
   ]
  },
  {
   "cell_type": "markdown",
   "metadata": {},
   "source": [
    "# 1. 제목\n",
    "\n",
    "###### 정규표현식 함수 생성\n",
    "    - \\s+  : 공백이 한개이상 있으면 , 제거해줌 ('\\t와 \\n이 너무 많아서 사용함)\n",
    "    - 한글만 사용(한글이 아니면 모두 공백으로 대체(sub)시켜줌)\n",
    "    - strip : 앞뒤 공백 제거"
   ]
  },
  {
   "cell_type": "code",
   "execution_count": 12,
   "metadata": {},
   "outputs": [
    {
     "data": {
      "text/plain": [
       "'\\n\\t\\t\\t\\t공공기관의 빅데이터 성숙도 진단모형 개발 및 적용에 관한 연구\\n\\t\\t\\t \\t\\n\\t\\t\\t \\t\\n\\t\\t\\t\\t\\n\\t\\t        \\n\\t\\t\\t'"
      ]
     },
     "execution_count": 12,
     "metadata": {},
     "output_type": "execute_result"
    }
   ],
   "source": [
    "제목 = soup.select(\n",
    "    '#soptionview > div > div.thesisInfo > div.thesisInfoTop > h3'\n",
    ")[0].text\n",
    "\n",
    "제목"
   ]
  },
  {
   "cell_type": "code",
   "execution_count": 13,
   "metadata": {},
   "outputs": [
    {
     "name": "stdout",
     "output_type": "stream",
     "text": [
      "공공기관의 빅데이터 성숙도 진단모형 개발 및 적용에 관한 연구          \n"
     ]
    }
   ],
   "source": [
    "def Title_re_function(문장):\n",
    "    re_pattern = re.compile(r'[^ 가-힣]')    #공백과 한글을 모두 제거하는 정규식 표현\n",
    "    result = re.sub(pattern = re_pattern,\n",
    "                    repl = '',\n",
    "                    string = 문장)\n",
    "\n",
    "    return result\n",
    "\n",
    "제목 = Title_re_function(제목)\n",
    "print(제목)"
   ]
  },
  {
   "cell_type": "markdown",
   "metadata": {},
   "source": [
    "# 2. 발행연도"
   ]
  },
  {
   "cell_type": "code",
   "execution_count": 14,
   "metadata": {},
   "outputs": [
    {
     "data": {
      "text/plain": [
       "'\\n발행연도\\n2016\\n'"
      ]
     },
     "execution_count": 14,
     "metadata": {},
     "output_type": "execute_result"
    }
   ],
   "source": [
    "발행연도 = soup.select(\n",
    "    '#soptionview > div > div.thesisInfo > div.infoDetail.on > div.infoDetailL > ul > li'\n",
    ")[4].text\n",
    "\n",
    "발행연도"
   ]
  },
  {
   "cell_type": "code",
   "execution_count": null,
   "metadata": {},
   "outputs": [],
   "source": []
  },
  {
   "cell_type": "code",
   "execution_count": 15,
   "metadata": {},
   "outputs": [
    {
     "data": {
      "text/plain": [
       "'2016'"
      ]
     },
     "execution_count": 15,
     "metadata": {},
     "output_type": "execute_result"
    }
   ],
   "source": [
    "def 발행연도_정제(발행연도):\n",
    "    num_pattern = re.compile(r'[^ 0-9]')     #공백과 숫자를 모두 빈칸으로 대체\n",
    "    num = num_pattern.sub('', 발행연도)\n",
    "    return num\n",
    "\n",
    "발행연도 = 발행연도_정제(발행연도)\n",
    "발행연도"
   ]
  },
  {
   "cell_type": "markdown",
   "metadata": {},
   "source": [
    "# 3. 주제어"
   ]
  },
  {
   "cell_type": "code",
   "execution_count": 16,
   "metadata": {},
   "outputs": [
    {
     "data": {
      "text/plain": [
       "'\\n\\n\\n\\t\\t\\t\\t\\t\\t\\t\\t빅데이터\\n\\t\\t\\t\\t\\t\\t\\t\\t\\n\\t\\t\\t\\t\\t\\t\\t\\n\\t\\t\\t\\t\\t\\t\\t\\t,\\n\\t\\t\\t\\t\\t\\t\\t\\t\\n\\t\\t\\t\\t\\t\\t\\t\\t성숙도\\n\\t\\t\\t\\t\\t\\t\\t\\t\\n\\t\\t\\t\\t\\t\\t\\t\\n\\t\\t\\t\\t\\t\\t\\t\\t,\\n\\t\\t\\t\\t\\t\\t\\t\\t\\n\\t\\t\\t\\t\\t\\t\\t\\t수준진단\\n\\t\\t\\t\\t\\t\\t\\t\\t\\n\\n\\n'"
      ]
     },
     "execution_count": 16,
     "metadata": {},
     "output_type": "execute_result"
    }
   ],
   "source": [
    "주제어 = soup.select(\n",
    "    '#soptionview > div > div.thesisInfo > div.infoDetail.on > div.infoDetailL > ul > li'\n",
    ")[6].text[5:]\n",
    "\n",
    "주제어"
   ]
  },
  {
   "cell_type": "code",
   "execution_count": 17,
   "metadata": {},
   "outputs": [
    {
     "data": {
      "text/plain": [
       "[' 기계학습 ', ' 기상데이터', ' 데이터마이닝', ' 자연재해']"
      ]
     },
     "execution_count": 17,
     "metadata": {},
     "output_type": "execute_result"
    }
   ],
   "source": [
    "'주제어 , 기계학습 , 기상데이터, 데이터마이닝, 자연재해'.split(',')[1:]"
   ]
  },
  {
   "cell_type": "code",
   "execution_count": 18,
   "metadata": {},
   "outputs": [
    {
     "data": {
      "text/plain": [
       "['빅데이터', '성숙도', '수준진단']"
      ]
     },
     "execution_count": 18,
     "metadata": {},
     "output_type": "execute_result"
    }
   ],
   "source": [
    "def 주제어_re_function(문장):\n",
    "    x = re.sub(pattern = '\\s+',        #공백 제거, \\s+ : 공백이 한개 이상 존재하는경우\n",
    "       repl = '', \n",
    "       string = 문장)\n",
    "    \n",
    "    \n",
    "    return x.split(',')\n",
    "\n",
    "주제어 = 주제어_re_function(주제어)\n",
    "주제어"
   ]
  },
  {
   "cell_type": "markdown",
   "metadata": {},
   "source": [
    "# 4. 발행기관"
   ]
  },
  {
   "cell_type": "code",
   "execution_count": 20,
   "metadata": {},
   "outputs": [],
   "source": [
    "#soptionview > div > div.thesisInfo > div.infoDetail.on > div.infoDetailL > ul > li"
   ]
  },
  {
   "cell_type": "code",
   "execution_count": 21,
   "metadata": {},
   "outputs": [
    {
     "data": {
      "text/plain": [
       "<li>\n",
       "<span class=\"strong\">발행기관</span>\n",
       "<div><p><a href=\"/search/Search.do?queryText=znPublisher,%ED%95%9C%EA%B5%AD%EC%A7%80%EC%97%AD%EC%A0%95%EB%B3%B4%ED%99%94%ED%95%99%ED%9A%8C&amp;searchGubun=true&amp;colName=re_s&amp;isDetailSearch=Y\">한국지역정보화학회</a></p></div>\n",
       "</li>"
      ]
     },
     "execution_count": 21,
     "metadata": {},
     "output_type": "execute_result"
    }
   ],
   "source": [
    "발행기관 = soup.select(\n",
    "    '#soptionview > div > div.thesisInfo > div.infoDetail.on > div.infoDetailL > ul > li'\n",
    ")[1]\n",
    "\n",
    "발행기관"
   ]
  },
  {
   "cell_type": "code",
   "execution_count": 22,
   "metadata": {},
   "outputs": [
    {
     "data": {
      "text/plain": [
       "'한국지역정보화학회'"
      ]
     },
     "execution_count": 22,
     "metadata": {},
     "output_type": "execute_result"
    }
   ],
   "source": [
    "발행기관.text.split()[1]"
   ]
  },
  {
   "cell_type": "code",
   "execution_count": 23,
   "metadata": {},
   "outputs": [
    {
     "data": {
      "text/plain": [
       "'한국지역정보화학회'"
      ]
     },
     "execution_count": 23,
     "metadata": {},
     "output_type": "execute_result"
    }
   ],
   "source": [
    "발행기관 = 발행기관.text.split()[1]\n",
    "발행기관"
   ]
  },
  {
   "cell_type": "markdown",
   "metadata": {},
   "source": [
    "### 5. 상세조회수\n",
    "### 6. 다운로드수"
   ]
  },
  {
   "cell_type": "code",
   "execution_count": 24,
   "metadata": {},
   "outputs": [
    {
     "name": "stdout",
     "output_type": "stream",
     "text": [
      "상세조회수 :  62\n",
      "다운로드수 :  54\n"
     ]
    }
   ],
   "source": [
    "#상세조회수\n",
    "상세조회수 = int(soup.select(\n",
    "    '#f_view'\n",
    ")[0].text)\n",
    "\n",
    "\n",
    "\n",
    "#다운로드수\n",
    "다운로드수 = int(soup.select(\n",
    "    '#f_usage'\n",
    ")[0].text)\n",
    "\n",
    "\n",
    "print('상세조회수 : ', 상세조회수)\n",
    "print('다운로드수 : ', 다운로드수)\n"
   ]
  },
  {
   "cell_type": "markdown",
   "metadata": {},
   "source": [
    "# 7. KCI피인용횟수"
   ]
  },
  {
   "cell_type": "code",
   "execution_count": 25,
   "metadata": {},
   "outputs": [
    {
     "data": {
      "text/plain": [
       "'\\nKCI 피인용횟수\\n1\\n'"
      ]
     },
     "execution_count": 25,
     "metadata": {},
     "output_type": "execute_result"
    }
   ],
   "source": [
    "KCI피인용횟수 = soup.select(\n",
    "    '#soptionview > div > div.thesisInfo > div.infoDetail.on > div.infoDetailL > ul > li'\n",
    ")[-2].text\n",
    "\n",
    "\n",
    "KCI피인용횟수"
   ]
  },
  {
   "cell_type": "code",
   "execution_count": 26,
   "metadata": {},
   "outputs": [
    {
     "data": {
      "text/plain": [
       "'1'"
      ]
     },
     "execution_count": 26,
     "metadata": {},
     "output_type": "execute_result"
    }
   ],
   "source": [
    "def KCI피인용횟수_정제(KCI피인용횟수):\n",
    "    num_pattern = re.compile(r'[^0-9]')\n",
    "    num = num_pattern.sub(' ', KCI피인용횟수)\n",
    "    \n",
    "    \n",
    "    if num.strip().count(' ')>0:   # 피인용횟수가 없다면 , 기입이 안되어있음\n",
    "                                     # 그래서 , 피인용횟수가 0 인것들은, 수록면 데이터를 가져와서 , 공백이 존재함\n",
    "                                     # 이러한 근거의 지표로 공백의 존재 여부를 활용\n",
    "        return 0\n",
    "    else:\n",
    "        return num.strip()\n",
    "\n",
    "\n",
    "KCI피인용횟수 = KCI피인용횟수_정제(KCI피인용횟수)\n",
    "KCI피인용횟수"
   ]
  },
  {
   "cell_type": "markdown",
   "metadata": {},
   "source": [
    "----"
   ]
  },
  {
   "cell_type": "markdown",
   "metadata": {},
   "source": [
    "### for문으로 본격적인 크롤링"
   ]
  },
  {
   "cell_type": "markdown",
   "metadata": {},
   "source": [
    "1. 제목\n",
    "2. 발행연도\n",
    "3. 주제어\n",
    "4. 발행기관\n",
    "5. 상세조회수\n",
    "6. 다운로드수\n",
    "7. KCI 피인용횟수"
   ]
  },
  {
   "cell_type": "code",
   "execution_count": 27,
   "metadata": {
    "scrolled": true
   },
   "outputs": [
    {
     "data": {
      "text/html": [
       "<div>\n",
       "<style scoped>\n",
       "    .dataframe tbody tr th:only-of-type {\n",
       "        vertical-align: middle;\n",
       "    }\n",
       "\n",
       "    .dataframe tbody tr th {\n",
       "        vertical-align: top;\n",
       "    }\n",
       "\n",
       "    .dataframe thead th {\n",
       "        text-align: right;\n",
       "    }\n",
       "</style>\n",
       "<table border=\"1\" class=\"dataframe\">\n",
       "  <thead>\n",
       "    <tr style=\"text-align: right;\">\n",
       "      <th></th>\n",
       "      <th>url</th>\n",
       "      <th>제목</th>\n",
       "      <th>발행연도</th>\n",
       "      <th>주제어</th>\n",
       "      <th>발행기관</th>\n",
       "      <th>상세조회수</th>\n",
       "      <th>다운로드수</th>\n",
       "      <th>KCI 피인용횟수</th>\n",
       "    </tr>\n",
       "  </thead>\n",
       "  <tbody>\n",
       "    <tr>\n",
       "      <th>0</th>\n",
       "      <td>http://www.riss.kr/search/detail/DetailView.do...</td>\n",
       "      <td>.</td>\n",
       "      <td>.</td>\n",
       "      <td>.</td>\n",
       "      <td>.</td>\n",
       "      <td>.</td>\n",
       "      <td>.</td>\n",
       "      <td>.</td>\n",
       "    </tr>\n",
       "    <tr>\n",
       "      <th>1</th>\n",
       "      <td>http://www.riss.kr/search/detail/DetailView.do...</td>\n",
       "      <td>.</td>\n",
       "      <td>.</td>\n",
       "      <td>.</td>\n",
       "      <td>.</td>\n",
       "      <td>.</td>\n",
       "      <td>.</td>\n",
       "      <td>.</td>\n",
       "    </tr>\n",
       "    <tr>\n",
       "      <th>2</th>\n",
       "      <td>http://www.riss.kr/search/detail/DetailView.do...</td>\n",
       "      <td>.</td>\n",
       "      <td>.</td>\n",
       "      <td>.</td>\n",
       "      <td>.</td>\n",
       "      <td>.</td>\n",
       "      <td>.</td>\n",
       "      <td>.</td>\n",
       "    </tr>\n",
       "    <tr>\n",
       "      <th>3</th>\n",
       "      <td>http://www.riss.kr/search/detail/DetailView.do...</td>\n",
       "      <td>.</td>\n",
       "      <td>.</td>\n",
       "      <td>.</td>\n",
       "      <td>.</td>\n",
       "      <td>.</td>\n",
       "      <td>.</td>\n",
       "      <td>.</td>\n",
       "    </tr>\n",
       "    <tr>\n",
       "      <th>4</th>\n",
       "      <td>http://www.riss.kr/search/detail/DetailView.do...</td>\n",
       "      <td>.</td>\n",
       "      <td>.</td>\n",
       "      <td>.</td>\n",
       "      <td>.</td>\n",
       "      <td>.</td>\n",
       "      <td>.</td>\n",
       "      <td>.</td>\n",
       "    </tr>\n",
       "  </tbody>\n",
       "</table>\n",
       "</div>"
      ],
      "text/plain": [
       "                                                 url 제목 발행연도 주제어 발행기관 상세조회수  \\\n",
       "0  http://www.riss.kr/search/detail/DetailView.do...  .    .   .    .     .   \n",
       "1  http://www.riss.kr/search/detail/DetailView.do...  .    .   .    .     .   \n",
       "2  http://www.riss.kr/search/detail/DetailView.do...  .    .   .    .     .   \n",
       "3  http://www.riss.kr/search/detail/DetailView.do...  .    .   .    .     .   \n",
       "4  http://www.riss.kr/search/detail/DetailView.do...  .    .   .    .     .   \n",
       "\n",
       "  다운로드수 KCI 피인용횟수  \n",
       "0     .         .  \n",
       "1     .         .  \n",
       "2     .         .  \n",
       "3     .         .  \n",
       "4     .         .  "
      ]
     },
     "execution_count": 27,
     "metadata": {},
     "output_type": "execute_result"
    }
   ],
   "source": [
    "df.head()"
   ]
  },
  {
   "cell_type": "code",
   "execution_count": 28,
   "metadata": {
    "scrolled": false
   },
   "outputs": [
    {
     "name": "stderr",
     "output_type": "stream",
     "text": [
      "  0%|▎                                                                             | 10/2463 [00:21<1:28:04,  2.15s/it]"
     ]
    },
    {
     "data": {
      "text/html": [
       "<div>\n",
       "<style scoped>\n",
       "    .dataframe tbody tr th:only-of-type {\n",
       "        vertical-align: middle;\n",
       "    }\n",
       "\n",
       "    .dataframe tbody tr th {\n",
       "        vertical-align: top;\n",
       "    }\n",
       "\n",
       "    .dataframe thead th {\n",
       "        text-align: right;\n",
       "    }\n",
       "</style>\n",
       "<table border=\"1\" class=\"dataframe\">\n",
       "  <thead>\n",
       "    <tr style=\"text-align: right;\">\n",
       "      <th></th>\n",
       "      <th>url</th>\n",
       "      <th>제목</th>\n",
       "      <th>발행연도</th>\n",
       "      <th>주제어</th>\n",
       "      <th>발행기관</th>\n",
       "      <th>상세조회수</th>\n",
       "      <th>다운로드수</th>\n",
       "      <th>KCI피인용횟수</th>\n",
       "    </tr>\n",
       "  </thead>\n",
       "  <tbody>\n",
       "    <tr>\n",
       "      <th>0</th>\n",
       "      <td>http://www.riss.kr/search/detail/DetailView.do...</td>\n",
       "      <td>공공기관의 빅데이터 성숙도 진단모형 개발 및 적용에 관한 연구</td>\n",
       "      <td>2016</td>\n",
       "      <td>[빅데이터, 성숙도, 수준진단]</td>\n",
       "      <td>한국지역정보화학회</td>\n",
       "      <td>62</td>\n",
       "      <td>54</td>\n",
       "      <td>1</td>\n",
       "    </tr>\n",
       "    <tr>\n",
       "      <th>0</th>\n",
       "      <td>http://www.riss.kr/search/detail/DetailView.do...</td>\n",
       "      <td>빅데이터 에코시스템 기반의 참조 아키텍처 개발</td>\n",
       "      <td>2014</td>\n",
       "      <td>[빅데이터, 참조아키텍처, 상호운용성, 표준, Bigdata, Referencear...</td>\n",
       "      <td>보안공학연구지원센터(JSE)</td>\n",
       "      <td>129</td>\n",
       "      <td>79</td>\n",
       "      <td></td>\n",
       "    </tr>\n",
       "    <tr>\n",
       "      <th>0</th>\n",
       "      <td>http://www.riss.kr/search/detail/DetailView.do...</td>\n",
       "      <td>빅데이터 플랫폼을 이용한 보안로그 분석 시스템 구현 모델 연구            ...</td>\n",
       "      <td>2014</td>\n",
       "      <td>[빅데이터플랫폼, 하둡, 분산병렬처리, 데이터시각화, 통합보안관리시스템, 보안정보이...</td>\n",
       "      <td>한국디지털정책학회</td>\n",
       "      <td>196</td>\n",
       "      <td>131</td>\n",
       "      <td>2</td>\n",
       "    </tr>\n",
       "    <tr>\n",
       "      <th>0</th>\n",
       "      <td>http://www.riss.kr/search/detail/DetailView.do...</td>\n",
       "      <td>빅데이터 유통 생태계에 기반한 단계별 빅데이터 유통 모델 개발에 관한 연구     ...</td>\n",
       "      <td>2016</td>\n",
       "      <td>[빅데이터유통생태계, 빅데이터유통모델, 데이터거래플랫폼, 빅데이터거래소, 데이터유통...</td>\n",
       "      <td>한국디지털정책학회</td>\n",
       "      <td>151</td>\n",
       "      <td>105</td>\n",
       "      <td>13</td>\n",
       "    </tr>\n",
       "    <tr>\n",
       "      <th>0</th>\n",
       "      <td>http://www.riss.kr/search/detail/DetailView.do...</td>\n",
       "      <td>개인정보 보안강화 및 빅데이터 활성화를 위한 새로운 빅데이터 플랫폼 제시      ...</td>\n",
       "      <td>2016</td>\n",
       "      <td>[빅데이터, 빅데이터플랫폼, 개인정보보호, 빅데이터활성화, HBase, 개인정보관리...</td>\n",
       "      <td>한국디지털정책학회</td>\n",
       "      <td>151</td>\n",
       "      <td>92</td>\n",
       "      <td>6</td>\n",
       "    </tr>\n",
       "    <tr>\n",
       "      <th>0</th>\n",
       "      <td>http://www.riss.kr/search/detail/DetailView.do...</td>\n",
       "      <td>빅데이터 산업 활성화 전략 연구                             ...</td>\n",
       "      <td>2014</td>\n",
       "      <td>[BigData, BigDataecosystemcomponent, BigDatain...</td>\n",
       "      <td>한국디지털정책학회</td>\n",
       "      <td>299</td>\n",
       "      <td>293</td>\n",
       "      <td>8</td>\n",
       "    </tr>\n",
       "    <tr>\n",
       "      <th>0</th>\n",
       "      <td>http://www.riss.kr/search/detail/DetailView.do...</td>\n",
       "      <td>실물옵션 기법을 이용한 기업의 빅데이터 기술 도입의 경제적 가치 분석  유유제약 사...</td>\n",
       "      <td>2014</td>\n",
       "      <td>[빅데이터, 빅데이터플랫폼, 실물옵션, 옵션가치, 주가, Bigdata, Bigda...</td>\n",
       "      <td>한국인터넷정보학회</td>\n",
       "      <td>136</td>\n",
       "      <td>102</td>\n",
       "      <td>5</td>\n",
       "    </tr>\n",
       "    <tr>\n",
       "      <th>0</th>\n",
       "      <td>http://www.riss.kr/search/detail/DetailView.do...</td>\n",
       "      <td>물류에서 빅데이터 분석의 활용을 위한 가치 모델</td>\n",
       "      <td>2017</td>\n",
       "      <td>[물류, 빅데이터, 비즈니스애널리틱스, 가치모델, 공급사슬관리, Logistics,...</td>\n",
       "      <td>한국디지털정책학회</td>\n",
       "      <td>230</td>\n",
       "      <td>166</td>\n",
       "      <td>4</td>\n",
       "    </tr>\n",
       "    <tr>\n",
       "      <th>0</th>\n",
       "      <td>http://www.riss.kr/search/detail/DetailView.do...</td>\n",
       "      <td>사례분석을 통한 지방행정의 빅데이터 활용 전략                     ...</td>\n",
       "      <td>2014</td>\n",
       "      <td>[빅데이터, 지방자치단체, 지방행정, 활용전략, ISP, BigData, Local...</td>\n",
       "      <td>한국디지털정책학회</td>\n",
       "      <td>624</td>\n",
       "      <td>559</td>\n",
       "      <td>16</td>\n",
       "    </tr>\n",
       "    <tr>\n",
       "      <th>0</th>\n",
       "      <td>http://www.riss.kr/search/detail/DetailView.do...</td>\n",
       "      <td>중국 빅데이터 거래에 관한 법적 고찰 정보법을 중심으로                ...</td>\n",
       "      <td>2018</td>\n",
       "      <td>[빅데이터, 정보법, 빅데이터거래소, 반부정당경쟁법, 프라이버시권, BigData,...</td>\n",
       "      <td>중앙대학교</td>\n",
       "      <td>40</td>\n",
       "      <td>27</td>\n",
       "      <td></td>\n",
       "    </tr>\n",
       "    <tr>\n",
       "      <th>0</th>\n",
       "      <td>http://www.riss.kr/search/detail/DetailView.do...</td>\n",
       "      <td>빅데이터 분석 시장 활성화를 위한 기술적 제도적 요인에 관한 연구 전문가 심층인터뷰...</td>\n",
       "      <td>2017</td>\n",
       "      <td>[300]</td>\n",
       "      <td>사단법인</td>\n",
       "      <td>118</td>\n",
       "      <td>98</td>\n",
       "      <td>2</td>\n",
       "    </tr>\n",
       "  </tbody>\n",
       "</table>\n",
       "</div>"
      ],
      "text/plain": [
       "                                                 url  \\\n",
       "0  http://www.riss.kr/search/detail/DetailView.do...   \n",
       "0  http://www.riss.kr/search/detail/DetailView.do...   \n",
       "0  http://www.riss.kr/search/detail/DetailView.do...   \n",
       "0  http://www.riss.kr/search/detail/DetailView.do...   \n",
       "0  http://www.riss.kr/search/detail/DetailView.do...   \n",
       "0  http://www.riss.kr/search/detail/DetailView.do...   \n",
       "0  http://www.riss.kr/search/detail/DetailView.do...   \n",
       "0  http://www.riss.kr/search/detail/DetailView.do...   \n",
       "0  http://www.riss.kr/search/detail/DetailView.do...   \n",
       "0  http://www.riss.kr/search/detail/DetailView.do...   \n",
       "0  http://www.riss.kr/search/detail/DetailView.do...   \n",
       "\n",
       "                                                  제목  발행연도  \\\n",
       "0       공공기관의 빅데이터 성숙도 진단모형 개발 및 적용에 관한 연구            2016   \n",
       "0                빅데이터 에코시스템 기반의 참조 아키텍처 개발            2014   \n",
       "0  빅데이터 플랫폼을 이용한 보안로그 분석 시스템 구현 모델 연구            ...  2014   \n",
       "0  빅데이터 유통 생태계에 기반한 단계별 빅데이터 유통 모델 개발에 관한 연구     ...  2016   \n",
       "0  개인정보 보안강화 및 빅데이터 활성화를 위한 새로운 빅데이터 플랫폼 제시      ...  2016   \n",
       "0  빅데이터 산업 활성화 전략 연구                             ...  2014   \n",
       "0  실물옵션 기법을 이용한 기업의 빅데이터 기술 도입의 경제적 가치 분석  유유제약 사...  2014   \n",
       "0               물류에서 빅데이터 분석의 활용을 위한 가치 모델            2017   \n",
       "0  사례분석을 통한 지방행정의 빅데이터 활용 전략                     ...  2014   \n",
       "0  중국 빅데이터 거래에 관한 법적 고찰 정보법을 중심으로                ...  2018   \n",
       "0  빅데이터 분석 시장 활성화를 위한 기술적 제도적 요인에 관한 연구 전문가 심층인터뷰...  2017   \n",
       "\n",
       "                                                 주제어             발행기관 상세조회수  \\\n",
       "0                                  [빅데이터, 성숙도, 수준진단]        한국지역정보화학회    62   \n",
       "0  [빅데이터, 참조아키텍처, 상호운용성, 표준, Bigdata, Referencear...  보안공학연구지원센터(JSE)   129   \n",
       "0  [빅데이터플랫폼, 하둡, 분산병렬처리, 데이터시각화, 통합보안관리시스템, 보안정보이...        한국디지털정책학회   196   \n",
       "0  [빅데이터유통생태계, 빅데이터유통모델, 데이터거래플랫폼, 빅데이터거래소, 데이터유통...        한국디지털정책학회   151   \n",
       "0  [빅데이터, 빅데이터플랫폼, 개인정보보호, 빅데이터활성화, HBase, 개인정보관리...        한국디지털정책학회   151   \n",
       "0  [BigData, BigDataecosystemcomponent, BigDatain...        한국디지털정책학회   299   \n",
       "0  [빅데이터, 빅데이터플랫폼, 실물옵션, 옵션가치, 주가, Bigdata, Bigda...        한국인터넷정보학회   136   \n",
       "0  [물류, 빅데이터, 비즈니스애널리틱스, 가치모델, 공급사슬관리, Logistics,...        한국디지털정책학회   230   \n",
       "0  [빅데이터, 지방자치단체, 지방행정, 활용전략, ISP, BigData, Local...        한국디지털정책학회   624   \n",
       "0  [빅데이터, 정보법, 빅데이터거래소, 반부정당경쟁법, 프라이버시권, BigData,...            중앙대학교    40   \n",
       "0                                              [300]             사단법인   118   \n",
       "\n",
       "   다운로드수 KCI피인용횟수  \n",
       "0     54        1  \n",
       "0     79           \n",
       "0    131        2  \n",
       "0    105       13  \n",
       "0     92        6  \n",
       "0    293        8  \n",
       "0    102        5  \n",
       "0    166        4  \n",
       "0    559       16  \n",
       "0     27           \n",
       "0     98        2  "
      ]
     },
     "execution_count": 28,
     "metadata": {},
     "output_type": "execute_result"
    }
   ],
   "source": [
    "df_list = []\n",
    "\n",
    "i = 0  #너무 많아서 , 어느정도 하다 멈추기 위해서 생성\n",
    "\n",
    "\n",
    "for  url in tqdm(df['url']):\n",
    "    try:\n",
    "        driver.get(url);\n",
    "        time.sleep(1)         #\n",
    "\n",
    "        html = driver.page_source                 #driver가 html을 가져오고\n",
    "        soup = BeautifulSoup(html, 'html.parser') #BeautifulSoup으로 파싱?? html 태그를 이쁘게 꾸며줌\n",
    "\n",
    "        제목 = soup.select(\n",
    "        '#soptionview > div > div.thesisInfo > div.thesisInfoTop > h3'\n",
    "        )[0].text\n",
    "\n",
    "        #1. 제목\n",
    "        제목 = Title_re_function(제목)\n",
    "\n",
    "\n",
    "\n",
    "        #2. 발행연도\n",
    "        발행연도 = soup.select(\n",
    "        '#soptionview > div > div.thesisInfo > div.infoDetail.on > div.infoDetailL > ul > li'\n",
    "            )[4].text\n",
    "\n",
    "        발행연도= 발행연도_정제(발행연도)\n",
    "\n",
    "\n",
    "        #3. 주제어\n",
    "        주제어 = soup.select(\n",
    "        '#soptionview > div > div.thesisInfo > div.infoDetail.on > div.infoDetailL > ul > li'\n",
    "            )[6].text[5:]\n",
    "\n",
    "        주제어 = 주제어_re_function(주제어)\n",
    "\n",
    "        #4. 발행기관\n",
    "        발행기관 = soup.select(\n",
    "        '#soptionview > div > div.thesisInfo > div.infoDetail.on > div.infoDetailL > ul > li'\n",
    "        )[1]\n",
    "\n",
    "        발행기관= 발행기관.text.split()[1]            \n",
    "\n",
    "        #5.상세조회수\n",
    "        상세조회수 = soup.select(\n",
    "        '#f_view'\n",
    "        )[0].text\n",
    "\n",
    "\n",
    "\n",
    "        #6. 다운로드수\n",
    "        다운로드수 = int(soup.select(\n",
    "            '#f_usage'\n",
    "        )[0].text)\n",
    "\n",
    "\n",
    "\n",
    "        #7. KCI 인용횟수\n",
    "        KCI피인용횟수 = soup.select(\n",
    "            '#soptionview > div > div.thesisInfo > div.infoDetail.on > div.infoDetailL > ul > li'\n",
    "            )[-2].text\n",
    "\n",
    "\n",
    "        KCI피인용횟수 = KCI피인용횟수_정제(KCI피인용횟수)\n",
    "\n",
    "\n",
    "        DF = pd.DataFrame({'url': [url], \n",
    "                                     '제목': [제목] ,\n",
    "                                     '발행연도' : [발행연도] ,\n",
    "                                     '주제어' : [주제어] , \n",
    "                                     '발행기관' : [발행기관],\n",
    "                                     '상세조회수' : [상세조회수],\n",
    "                                     '다운로드수' : [다운로드수],\n",
    "                                     'KCI피인용횟수' : [KCI피인용횟수]\n",
    "                                    })\n",
    "        df_list.append(DF)\n",
    "    except:\n",
    "        pass\n",
    "    \n",
    "    \n",
    "    \n",
    "    if i ==10:  #2400개가 넘는것 다시 돌리기 너무 오래걸려서 10개만 돌림\n",
    "        break\n",
    "    i += 1\n",
    "    \n",
    "RISS_df = pd.concat(df_list)\n",
    "RISS_df\n",
    "\n",
    "#db_save(RISS_df)"
   ]
  },
  {
   "cell_type": "markdown",
   "metadata": {},
   "source": [
    "##### 시간이 오래 걸리므로 , 조원들과 각자 나눠서 만든 csv파일 결합"
   ]
  },
  {
   "cell_type": "code",
   "execution_count": null,
   "metadata": {
    "scrolled": true
   },
   "outputs": [],
   "source": [
    "RISS_df_Origin = pd.read_csv('RISS_LIST_Origin.csv', index_col = 0)\n",
    "RISS_df_A = pd.read_csv('RISS_LIST_A.csv', index_col = 0)\n",
    "RISS_df_B = pd.read_csv('RISS_LIST_B.csv', index_col = 0)\n",
    "RISS_df_C = pd.read_csv('RISS_LIST_C.csv', index_col = 0)\n",
    "\n",
    "RISS_df = pd.concat([RISS_df_C, RISS_df_A, RISS_df_B, RISS_df_Origin], ignore_index=True)\n",
    "RISS_df"
   ]
  },
  {
   "cell_type": "code",
   "execution_count": null,
   "metadata": {
    "scrolled": true
   },
   "outputs": [],
   "source": [
    "import matplotlib.pyplot as plt\n",
    "\n",
    "import seaborn as sns\n",
    "\n",
    "sns.set(style='darkgrid')\n",
    "\n",
    "RISS_df.groupby('발행연도').count()['제목'][:-1].plot(kind = 'barh')\n",
    "\n",
    "plt.show()"
   ]
  },
  {
   "cell_type": "markdown",
   "metadata": {},
   "source": [
    "> 연도별 빅데이터 관련 논문 수에 대한 막대그래프\n",
    "- 꾸준히 증가하고 있음을 볼 수 있다."
   ]
  },
  {
   "cell_type": "code",
   "execution_count": null,
   "metadata": {},
   "outputs": [],
   "source": []
  },
  {
   "cell_type": "markdown",
   "metadata": {},
   "source": [
    "# DB Oracle\n",
    "- sqlite 라이브러리를 활용하며 mysql 과 연동 과정\n",
    "- 크롤링과 동시에 DB에 저장 가능하도록 구현 가능함"
   ]
  },
  {
   "cell_type": "code",
   "execution_count": null,
   "metadata": {},
   "outputs": [],
   "source": [
    "def db_save(RISS_LIST):\n",
    "\n",
    "    import sqlite3\n",
    "    from pandas.io import sql\n",
    "    import os\n",
    "\n",
    "    with sqlite3.connect(os.path.join('.' , 'sqliteDB')) as con: # sqlite DB 파일이 존재하지 않는 경우 파일생성\n",
    "        try:\n",
    "            RISS_LIST.to_sql(name = 'RISS_LIST', con = con, index = False, if_exists='append') \n",
    "            #if_exists : {'fail', 'replace', 'append'} default : fail\n",
    "        except Exception as e:\n",
    "            print(str(e))\n",
    "        print(len(RISS_LIST) , '저장 완료 ...')"
   ]
  },
  {
   "cell_type": "code",
   "execution_count": null,
   "metadata": {},
   "outputs": [],
   "source": [
    "def db_select():\n",
    "    with sqlite3.connect(os.path.join('.','sqliteDB')) as con: # sqlite DB 파일이 존재하지 않는 경우 파일생성\n",
    "        try:\n",
    "            query = 'SELECT * FROM RISS_LIST'\n",
    "            RISS_LIST = pd.read_sql(query, con = con)\n",
    "        except Exception as e:\n",
    "            print(str(e)) \n",
    "        return RISS_LIST"
   ]
  },
  {
   "cell_type": "code",
   "execution_count": null,
   "metadata": {},
   "outputs": [],
   "source": []
  },
  {
   "cell_type": "code",
   "execution_count": null,
   "metadata": {},
   "outputs": [],
   "source": []
  },
  {
   "cell_type": "raw",
   "metadata": {},
   "source": []
  }
 ],
 "metadata": {
  "kernelspec": {
   "display_name": "Python 3",
   "language": "python",
   "name": "python3"
  },
  "language_info": {
   "codemirror_mode": {
    "name": "ipython",
    "version": 3
   },
   "file_extension": ".py",
   "mimetype": "text/x-python",
   "name": "python",
   "nbconvert_exporter": "python",
   "pygments_lexer": "ipython3",
   "version": "3.7.6"
  }
 },
 "nbformat": 4,
 "nbformat_minor": 4
}
