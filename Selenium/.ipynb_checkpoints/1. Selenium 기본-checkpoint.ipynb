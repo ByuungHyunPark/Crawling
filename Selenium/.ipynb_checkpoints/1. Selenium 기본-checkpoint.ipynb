{
 "cells": [
  {
   "cell_type": "markdown",
   "metadata": {},
   "source": [
    "##### chromedriver.exe설치\n",
    "- https://beomi.github.io/2017/02/27/HowToMakeWebCrawler-With-Selenium/\n",
    "- Selenium은 webdriver api를 통해 브라우저를 제어한다.\n",
    "- 크롬 우측 상단 점 세개 => 설정에서 크롬버전 확인 후 설치"
   ]
  },
  {
   "cell_type": "code",
   "execution_count": null,
   "metadata": {},
   "outputs": [],
   "source": [
    "#pip install selenium"
   ]
  },
  {
   "cell_type": "code",
   "execution_count": 4,
   "metadata": {},
   "outputs": [],
   "source": [
    "from selenium import webdriver\n",
    "\n",
    "driver = webdriver.Chrome('chromedriver')"
   ]
  },
  {
   "cell_type": "code",
   "execution_count": 6,
   "metadata": {},
   "outputs": [],
   "source": [
    "driver.implicitly_wait(3)"
   ]
  },
  {
   "cell_type": "markdown",
   "metadata": {},
   "source": [
    "> Selenium은 기본적으로 웹 자원들이 모두 로드될때까지 기다려주지만, 암묵적으로 모든 자원이 로드될때 까지 기다리게 하는 시간을 직접 implicitly_wait을 통해 지정할 수 있다"
   ]
  },
  {
   "cell_type": "markdown",
   "metadata": {},
   "source": [
    "##### get을 통한 url 접근"
   ]
  },
  {
   "cell_type": "code",
   "execution_count": 8,
   "metadata": {},
   "outputs": [],
   "source": [
    "driver.get('http://naver.com')"
   ]
  },
  {
   "cell_type": "markdown",
   "metadata": {},
   "source": [
    "##### 페이지의 단일 element에 접근하는 메소드\n",
    "- find_element_by_name('HTML_name')\n",
    "- find_element_by_id('HTML_id')\n",
    "- find_element_by_xpath('/html/body/some/xpath')\n",
    "- __`find_element_by_css_selector('#css > div.selector')`__\n",
    "- find_element_by_class_name('some_class_name')\n",
    "- find_element_by_tag_name('h1')\n",
    "\n",
    "위 메소드를 활용하면 HTML을 브라우저에서 파싱해주기 때문에 굳이 BeautifulSoup 사용하지 않아도 된다."
   ]
  },
  {
   "cell_type": "markdown",
   "metadata": {},
   "source": [
    "\n",
    "만약 soup 객체를 사용하고자 한다면 , 아래의 두가지 방법이 존재한다.\n",
    "1. `driver.page_source` : 브라우저에 보이는 그대로의 HTML, 크롬 개발자 도구의 __Element__탭 내용과 동일.\n",
    "2. `requests`를 통해 가져온 req.text` : HTTP요청 결과로 받아온 HTML, 크롬 개발자 도구의 _페이지 소스_내용과 동일\n",
    "위 2개는 사이트에 따라 같은수도 있고 , 다를수도 있다."
   ]
  },
  {
   "cell_type": "markdown",
   "metadata": {},
   "source": [
    "# 네이버 로그인 하기"
   ]
  },
  {
   "cell_type": "code",
   "execution_count": 22,
   "metadata": {},
   "outputs": [],
   "source": [
    "from selenium import webdriver\n",
    "\n",
    "driver = webdriver.Chrome('chromedriver.exe')\n",
    "driver.implicitly_wait(3)\n",
    "\n",
    "#url에 접근\n",
    "driver.get('https://nid.naver.com/nidlogin.login')"
   ]
  },
  {
   "cell_type": "markdown",
   "metadata": {},
   "source": [
    "##### 아이디 , 비밀번호 입력"
   ]
  },
  {
   "cell_type": "code",
   "execution_count": 25,
   "metadata": {},
   "outputs": [],
   "source": [
    "driver.find_element_by_name('id').send_keys('qudgus8672')\n",
    "driver.find_element_by_name('pw').send_keys('##########')\n",
    "\n"
   ]
  },
  {
   "cell_type": "markdown",
   "metadata": {},
   "source": [
    "##### 로그인 버튼 누르기"
   ]
  },
  {
   "cell_type": "code",
   "execution_count": null,
   "metadata": {},
   "outputs": [],
   "source": [
    "driver.find_element_by_xpath('//*[@id=\"log.login\"]').click()\n",
    "\n",
    "#하지만 , 네이버같은 경우에는 요즘 셀레니움을 막아놓은듯"
   ]
  }
 ],
 "metadata": {
  "kernelspec": {
   "display_name": "Python 3",
   "language": "python",
   "name": "python3"
  },
  "language_info": {
   "codemirror_mode": {
    "name": "ipython",
    "version": 3
   },
   "file_extension": ".py",
   "mimetype": "text/x-python",
   "name": "python",
   "nbconvert_exporter": "python",
   "pygments_lexer": "ipython3",
   "version": "3.7.6"
  }
 },
 "nbformat": 4,
 "nbformat_minor": 4
}
