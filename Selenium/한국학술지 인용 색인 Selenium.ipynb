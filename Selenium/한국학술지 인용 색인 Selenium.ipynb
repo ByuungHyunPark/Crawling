{
 "cells": [
  {
   "cell_type": "markdown",
   "metadata": {},
   "source": [
    "##### url = https://www.kci.go.kr/kciportal/main.kci\n",
    "- __한국 학술지 인용 색인__ 홈페이지에서, 학회 정보 Crawling\n",
    "- Selenium 활용\n",
    "- Chrome 버전 88.0.4324.104(공식 빌드) (64비트)"
   ]
  },
  {
   "cell_type": "code",
   "execution_count": 1,
   "metadata": {},
   "outputs": [],
   "source": [
    "import pandas as pd\n",
    "import numpy as np\n",
    "\n",
    "from tqdm import tqdm\n",
    "import requests\n",
    "\n",
    "from bs4 import BeautifulSoup\n",
    "import re\n",
    "import time\n",
    "\n",
    "from selenium import webdriver \n",
    "\n",
    "chromedriver = 'chromedriver.exe'\n",
    "driver = webdriver.Chrome(chromedriver)\n",
    "\n",
    "html = driver.page_source\n",
    "soup = BeautifulSoup(html, 'html.parser')\n",
    "\n",
    "url = 'https://www.kci.go.kr/kciportal/main.kci'\n",
    "\n",
    "driver.get(url)\n"
   ]
  },
  {
   "cell_type": "markdown",
   "metadata": {},
   "source": [
    "##### 학회 정보가 있는 페이지까지 이동 ~"
   ]
  },
  {
   "cell_type": "code",
   "execution_count": 2,
   "metadata": {},
   "outputs": [],
   "source": [
    "# 메인 홈페이지로부터, 크롤링하고자 하는 html 있는 페이지까지 click을 통해 이동\n",
    "def click_func(xpath):\n",
    "    global driver\n",
    "    \n",
    "    button = driver.find_element_by_xpath(xpath)\n",
    "    button.click()\n",
    "    time.sleep(0.1)"
   ]
  },
  {
   "cell_type": "code",
   "execution_count": 3,
   "metadata": {},
   "outputs": [],
   "source": [
    "#기관정보검색칸으로 이동\n",
    "institution_button = '//*[@id=\"gnbs\"]/ul/li[4]/a'\n",
    "click_func(institution_button) "
   ]
  },
  {
   "cell_type": "code",
   "execution_count": 4,
   "metadata": {},
   "outputs": [],
   "source": [
    "#학술대회검색으로 이동\n",
    "conference_button = '//*[@id=\"tabMenu\"]/li[2]/a'\n",
    "click_func(conference_button)\n",
    "\n",
    "#학술대회 종합 검색으로 이동\n",
    "conference_button2 = '//*[@id=\"sBody\"]/form/a'\n",
    "click_func(conference_button2)"
   ]
  },
  {
   "cell_type": "code",
   "execution_count": 5,
   "metadata": {},
   "outputs": [],
   "source": [
    "# 검색하기 버튼 클릭\n",
    "search_button = '//*[@id=\"AKCFrm\"]/div/div[3]/div/input'\n",
    "click_func(search_button)"
   ]
  },
  {
   "cell_type": "code",
   "execution_count": 6,
   "metadata": {},
   "outputs": [],
   "source": [
    "#(학회/대학부)중, 학회 radio 버튼 클릭  \n",
    "institution_type_button = '//*[@id=\"insiDiv01\"]'  \n",
    "click_func(institution_type_button)"
   ]
  },
  {
   "cell_type": "code",
   "execution_count": 7,
   "metadata": {},
   "outputs": [],
   "source": [
    "#재탐색 버튼 클릭\n",
    "re_search_button = '//*[@id=\"conLeft\"]/div/div/button/span/em'\n",
    "click_func(re_search_button)"
   ]
  },
  {
   "cell_type": "code",
   "execution_count": 8,
   "metadata": {},
   "outputs": [],
   "source": [
    "# 300개 list 출력\n",
    "show300row_button = '//*[@id=\"sBody\"]/div[1]/div/div[2]/div/div[3]/ul/li[1]/a'\n",
    "click_func(show300row_button)"
   ]
  },
  {
   "cell_type": "code",
   "execution_count": 9,
   "metadata": {},
   "outputs": [],
   "source": [
    "# 300개 list 보이도록\n",
    "show_button = '//*[@id=\"sBody\"]/div[1]/div/div[2]/div/div[4]/a'\n",
    "click_func(show_button)"
   ]
  },
  {
   "cell_type": "code",
   "execution_count": 10,
   "metadata": {},
   "outputs": [],
   "source": [
    "# 해당 page source를 Bs4를 활용한 parsing\n",
    "html = driver.page_source\n",
    "soup = BeautifulSoup(html, 'html.parser')"
   ]
  },
  {
   "cell_type": "markdown",
   "metadata": {},
   "source": [
    "##### 학회정보 있는 곳으로 이동 후, beatifulSoup 활용하여 Crawling"
   ]
  },
  {
   "cell_type": "code",
   "execution_count": 11,
   "metadata": {},
   "outputs": [],
   "source": [
    "# 전체 데이터가 받아와질 공간\n",
    "all_conference_list = []"
   ]
  },
  {
   "cell_type": "code",
   "execution_count": 12,
   "metadata": {},
   "outputs": [],
   "source": [
    "# 한 페이지에 300개가 존재 => 한 페이지당 shape (300,4) 형태의 2d list로 받아옴\n",
    "\n",
    "def append_conference_info_list(soup):\n",
    "    conference_name_list = np.array([i.get('value').split(' : ')[1] for i in soup.find_all(\"input\", attrs = {\"name\" : \"a\"})])  #학회제목\n",
    "    host_institution_list = np.array([i.get('value').split(' : ')[1] for i in soup.find_all(\"input\", attrs = {\"name\" : \"b\"})]) #개최기관\n",
    "    preiod_list = np.array([i.get('value').split(' : ')[1] for i in soup.find_all(\"input\", attrs = {\"name\" : \"c\"})]) #개최기간\n",
    "    research_field_list = np.array([i.get('value').split(' : ')[1] for i in soup.find_all(\"input\", attrs = {\"name\" : \"d\"})]) #연구 분야\n",
    "\n",
    "    confer_info_300_list = np.column_stack([conference_name_list, host_institution_list, preiod_list, research_field_list]) # (300,4) matrx 생성\n",
    "\n",
    "    all_conference_list.append(confer_info_300_list.tolist()) #전체 list에 append\n",
    "\n",
    "    time.sleep(1)"
   ]
  },
  {
   "cell_type": "code",
   "execution_count": 13,
   "metadata": {},
   "outputs": [],
   "source": [
    "def click_next_button():\n",
    "\n",
    "    next_page_button = '//*[@id=\"sBody\"]/div[2]/div/div/div/a[4]'\n",
    "    click_func(next_page_button)\n",
    "\n",
    "    #soup page source또한 초기화\n",
    "    html = driver.page_source\n",
    "    soup = BeautifulSoup(html, 'html.parser')\n",
    "    \n",
    "    #에레로 인해 과거페이지로 돌아가므로 , 3초간 sleep\n",
    "    time.sleep(3)\n",
    "    \n",
    "    return soup"
   ]
  },
  {
   "cell_type": "code",
   "execution_count": 14,
   "metadata": {},
   "outputs": [],
   "source": [
    "def click_behind_button():\n",
    "    behind_page_button = '//*[@id=\"sBody\"]/div[2]/div/div/div/a[3]'\n",
    "    click_func(behind_page_button)\n",
    "\n",
    "    #soup page source또한 초기화\n",
    "    html = driver.page_source\n",
    "    soup = BeautifulSoup(html, 'html.parser')\n",
    "    \n",
    "    return soup"
   ]
  },
  {
   "cell_type": "code",
   "execution_count": 15,
   "metadata": {},
   "outputs": [
    {
     "name": "stdout",
     "output_type": "stream",
     "text": [
      "['2021년도 가을 총회 및 국제 학술대회' '한국화학공학회' '2021.10.27 ~ 2021.10.29' '화학공학']  length :  300\n"
     ]
    }
   ],
   "source": [
    "# 먼저, 첫번째페이지 Crawling\n",
    "append_conference_info_list(soup)"
   ]
  },
  {
   "cell_type": "code",
   "execution_count": 77,
   "metadata": {},
   "outputs": [],
   "source": [
    "#전체 2~130페이지까지 존재함\n",
    "#다음 페이지로 넘겨가면서, 크롤링 진행\n",
    "\n",
    "for page in range(1, 130):\n",
    "    try:\n",
    "        print('page : {} 진행중'.format(page))\n",
    "        soup = click_next_button()  # 다음페이지로 이동\n",
    "        append_conference_info_list(soup) #이동한 페이지에서 학회정보Crawling\n",
    "    \n",
    "    except Exception as inst:\n",
    "        print(inst)\n",
    "        soup = click_behind_button()\n",
    "        soup = click_next_button()"
   ]
  },
  {
   "cell_type": "markdown",
   "metadata": {},
   "source": [
    "##### 크롤링한 학회 정보들 데이터프레임으로 변환"
   ]
  },
  {
   "cell_type": "code",
   "execution_count": 86,
   "metadata": {},
   "outputs": [
    {
     "data": {
      "text/html": [
       "<div>\n",
       "<style scoped>\n",
       "    .dataframe tbody tr th:only-of-type {\n",
       "        vertical-align: middle;\n",
       "    }\n",
       "\n",
       "    .dataframe tbody tr th {\n",
       "        vertical-align: top;\n",
       "    }\n",
       "\n",
       "    .dataframe thead th {\n",
       "        text-align: right;\n",
       "    }\n",
       "</style>\n",
       "<table border=\"1\" class=\"dataframe\">\n",
       "  <thead>\n",
       "    <tr style=\"text-align: right;\">\n",
       "      <th></th>\n",
       "      <th>학회명</th>\n",
       "      <th>개최기관명</th>\n",
       "      <th>개최기간</th>\n",
       "      <th>연구분야</th>\n",
       "      <th>year</th>\n",
       "    </tr>\n",
       "  </thead>\n",
       "  <tbody>\n",
       "    <tr>\n",
       "      <th>38697</th>\n",
       "      <td>2007년 춘계 학술대회</td>\n",
       "      <td>한국운동재활학회</td>\n",
       "      <td>2007.06.08 ~ 2007.06.08</td>\n",
       "      <td>사회과학</td>\n",
       "      <td>2007</td>\n",
       "    </tr>\n",
       "    <tr>\n",
       "      <th>38698</th>\n",
       "      <td>2007년도 제23차 춘계 학술대회 및 연수교육</td>\n",
       "      <td>대한흉부외과학회</td>\n",
       "      <td>2007.06.07 ~ 2007.06.08</td>\n",
       "      <td>흉부외과학</td>\n",
       "      <td>2007</td>\n",
       "    </tr>\n",
       "    <tr>\n",
       "      <th>38699</th>\n",
       "      <td>2007년도 춘계 학술대회</td>\n",
       "      <td>한국실험동물학회</td>\n",
       "      <td>2007.06.07 ~ 2007.06.08</td>\n",
       "      <td>의약학</td>\n",
       "      <td>2007</td>\n",
       "    </tr>\n",
       "  </tbody>\n",
       "</table>\n",
       "</div>"
      ],
      "text/plain": [
       "                              학회명     개최기관명                     개최기간   연구분야  \\\n",
       "38697               2007년 춘계 학술대회  한국운동재활학회  2007.06.08 ~ 2007.06.08   사회과학   \n",
       "38698  2007년도 제23차 춘계 학술대회 및 연수교육  대한흉부외과학회  2007.06.07 ~ 2007.06.08  흉부외과학   \n",
       "38699              2007년도 춘계 학술대회  한국실험동물학회  2007.06.07 ~ 2007.06.08    의약학   \n",
       "\n",
       "       year  \n",
       "38697  2007  \n",
       "38698  2007  \n",
       "38699  2007  "
      ]
     },
     "execution_count": 86,
     "metadata": {},
     "output_type": "execute_result"
    }
   ],
   "source": [
    "import itertools\n",
    "\n",
    "# itertools 함수를 활용하여 , 2D List => 1D list\n",
    "list_2D_to_1D = list(itertools.chain.from_iterable(all_conference_list))\n",
    "df = pd.DataFrame(list_2D_to_1D)\n",
    "\n",
    "df.columns = ['학회명', '개최기관명', '개최기간', '연구분야']\n",
    "df['year'] = df['개최기간'].str[:4].astype(int)\n",
    "\n",
    "df.tail(3)"
   ]
  },
  {
   "cell_type": "code",
   "execution_count": 95,
   "metadata": {},
   "outputs": [
    {
     "data": {
      "text/plain": [
       "2011    2936\n",
       "2012    2967\n",
       "2013    3069\n",
       "2014    3151\n",
       "2015    3150\n",
       "2016    3220\n",
       "2017    3051\n",
       "2018    2748\n",
       "2019    2182\n",
       "2020     455\n",
       "2021      11\n",
       "Name: year, dtype: int64"
      ]
     },
     "execution_count": 95,
     "metadata": {},
     "output_type": "execute_result"
    }
   ],
   "source": [
    "# 연도별 학술 개최현황\n",
    "df[df['year'] >= 2011]['year'].value_counts().sort_index()"
   ]
  }
 ],
 "metadata": {
  "kernelspec": {
   "display_name": "Python 3",
   "language": "python",
   "name": "python3"
  },
  "language_info": {
   "codemirror_mode": {
    "name": "ipython",
    "version": 3
   },
   "file_extension": ".py",
   "mimetype": "text/x-python",
   "name": "python",
   "nbconvert_exporter": "python",
   "pygments_lexer": "ipython3",
   "version": "3.8.5"
  }
 },
 "nbformat": 4,
 "nbformat_minor": 4
}
