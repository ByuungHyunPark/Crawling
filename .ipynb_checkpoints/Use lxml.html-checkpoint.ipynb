{
 "cells": [
  {
   "cell_type": "code",
   "execution_count": 7,
   "metadata": {},
   "outputs": [],
   "source": [
    "import requests\n",
    "import lxml.html\n",
    "import pandas as pd\n",
    "import re\n",
    "import string"
   ]
  },
  {
   "cell_type": "markdown",
   "metadata": {},
   "source": [
    "##### URL"
   ]
  },
  {
   "cell_type": "code",
   "execution_count": 2,
   "metadata": {},
   "outputs": [],
   "source": [
    "url = 'https://news.v.daum.net/v/20200505000102404'"
   ]
  },
  {
   "cell_type": "markdown",
   "metadata": {},
   "source": [
    "##### url 접속 \n",
    "- 200 : 정상적으로 잘 접속됨을 알 수 있음."
   ]
  },
  {
   "cell_type": "code",
   "execution_count": 8,
   "metadata": {},
   "outputs": [
    {
     "name": "stdout",
     "output_type": "stream",
     "text": [
      "<Response [200]>\n"
     ]
    }
   ],
   "source": [
    "response = requests.get(url)\n",
    "print(response)"
   ]
  },
  {
   "cell_type": "code",
   "execution_count": 13,
   "metadata": {},
   "outputs": [
    {
     "data": {
      "text/plain": [
       "b'<!doctype html>\\n<html lang=\"ko\">\\n <head data-cloud-area=\"head\"> \\n  <meta charset=\"utf-8\"> \\n  <meta http-equiv=\"X-UA-Compatible\" content=\"IE=edge\"> \\n  <style>\\n             @import url(\\'//t1.daumcdn.net/harmony_static/cloud/page/2603111efaebe3b9879c7b3c1417b82fff251095.css\\');\\n            @import url(\\'//t1.daumcdn.net/harmony_static/cloud/2020/07/27/components.089a349b1002f2ce43b9.css\\')\\n        </style> \\n  <meta name=\"robots\" content=\"noindex\"> \\n  <meta property=\"mccp:docId\" content=\"jCcEbrHZNt\"> \\n'"
      ]
     },
     "execution_count": 13,
     "metadata": {},
     "output_type": "execute_result"
    }
   ],
   "source": [
    "response.content[:500]"
   ]
  },
  {
   "cell_type": "markdown",
   "metadata": {},
   "source": [
    ">##### response.content\n",
    "- 정제과정 필요함\n",
    "- 1. BeautifulSoup\n",
    "- 2. lxml.html.fromstring(response.content)"
   ]
  },
  {
   "cell_type": "code",
   "execution_count": 20,
   "metadata": {},
   "outputs": [
    {
     "data": {
      "text/plain": [
       "'왓챠플레이-LG 스마트TV 리모컨 연동..OTT 접점 확대'"
      ]
     },
     "execution_count": 20,
     "metadata": {},
     "output_type": "execute_result"
    }
   ],
   "source": [
    "root = lxml.html.fromstring(response.content)\n",
    "\n",
    "#위 url 뉴스기사의 XPath 복붙을 통한 제목 크롤링\n",
    "root.xpath('//*[@id=\"cSub\"]/div/h3')[0].text"
   ]
  },
  {
   "cell_type": "markdown",
   "metadata": {},
   "source": [
    "### XPath(XML Path Language)\n",
    "- XPath는 XML 문서의 특정 부분의 위치를 찾을때 사용하는 언어\n",
    "- XPath에서는 속성을 지정하려면 @를 사용\n",
    "\n",
    "__크롤링하고싶은 곳에서 우클릭->inspect->XPath Copy__를 root.xpath() 를 통해 사용"
   ]
  },
  {
   "cell_type": "code",
   "execution_count": 21,
   "metadata": {},
   "outputs": [
    {
     "data": {
      "text/plain": [
       "[<Element p at 0x27fd97124a8>,\n",
       " <Element p at 0x27fd97125e8>,\n",
       " <Element p at 0x27fd9712638>,\n",
       " <Element p at 0x27fd9712408>,\n",
       " <Element p at 0x27fd9712818>,\n",
       " <Element p at 0x27fd97127c8>,\n",
       " <Element p at 0x27fd97123b8>,\n",
       " <Element p at 0x27fd9712458>,\n",
       " <Element p at 0x27fd9712048>,\n",
       " <Element p at 0x27fd9712098>,\n",
       " <Element p at 0x27fd97120e8>,\n",
       " <Element p at 0x27fd9712138>,\n",
       " <Element p at 0x27fd9712188>,\n",
       " <Element p at 0x27fd97121d8>,\n",
       " <Element p at 0x27fd9712228>]"
      ]
     },
     "execution_count": 21,
     "metadata": {},
     "output_type": "execute_result"
    }
   ],
   "source": [
    "#위 url 뉴스기사의 XPath 복붙을 통한 기사내용 크롤링\n",
    "root.xpath('//*[@id=\"harmonyContainer\"]/section/p')"
   ]
  },
  {
   "cell_type": "markdown",
   "metadata": {},
   "source": [
    ">- 기사내용은 하나의 문단을 원소로 갖는 list 형으로 이루어져있음"
   ]
  },
  {
   "cell_type": "code",
   "execution_count": 24,
   "metadata": {
    "scrolled": true
   },
   "outputs": [
    {
     "name": "stdout",
     "output_type": "stream",
     "text": [
      "LG전자 스마트TV 리모컨 클릭 한 번에 '왓챠플레이'가 연결된다. \n",
      "\n",
      "왓챠와 LG전자는 LG 2019년형 스마트TV부터 스마트TV 리모컨에서 '영화' 버튼을 클릭하면 왓챠플레이 서비스가 바로 연동되도록 지원한다. \n",
      "\n",
      "왓챠플레이를 구독하는 고객 편의성을 강화했다. LG 신형 스마트TV를 보유한 왓챠플레이 고객은 편리하게 서비스를 이용할 수 있게 됐다. \n",
      "\n",
      "기존에도 삼성전자·LG전자 스마트TV 메뉴와 유료방송 셋톱박스 등을 통해 왓챠플레이를 시청할 수 있었다. 왓챠플레이 애플리케이션(앱)을 찾아야 하는 번거로움이 있었다. \n",
      "\n",
      "박태훈 왓챠 대표는 “국내외 제조사는 물론 통신사, 방송사와 서비스 협업을 논의 중”이라며 “왓챠플레이를 더 쉽게 접할 수 있도록 계속 협력해나갈 것”이라고 말했다. \n",
      "\n",
      "왓챠플레이뿐만 아니라 웨이브, 넷플릭스, 디즈니플러스(디즈니+) 등 대다수 온라인동영상서비스(OTT)가 스마트TV·유료방송과 고객 접점을 확대하는 추세다. \n",
      "\n",
      "스마트폰·태블릿PC 등 모바일은 물론 TV와 PC 등 다양한 디바이스에서 클릭 한 번에 서비스를 이용하도록 지원, 접근성을 강화했다. 고객 접점을 확대해 가입 유인을 늘리기 위한 전략이다. \n",
      "\n",
      "넷플릭스는 LG유플러스와 LG헬로비전, 딜라이브 등 IPTV·케이블TV와 서비스를 연동, 쉽게 볼 수 있도록 지원한다. 삼성·LG 스마트TV 앱 또는 리모컨에서 넷플릭스(NETFLIX) 버튼 클릭 한 번에 서비스를 이용할 수 있도록 지원한다. \n",
      "\n",
      "웨이브와 CJ ENM '티빙(TVING)' 등 국산 OTT는 물론 미국·유럽 등 해외에서 서비스를 제공 중인 디즈니+ 역시 삼성·LG전자 스마트TV에서 서비스를 제공한다. \n",
      "\n",
      "유료방송 플랫폼 차원에서 OTT와 제휴도 적극적이다. KT스카이라이프는 통합 OTT 서비스 '토핑' 출시 1주년을 맞아 국내 최대 애니메이션 스트리밍 플랫폼 '라프텔' 서비스를 추가했다. \n",
      "\n",
      "이달 초부터 라프텔을 통해 '진격의 거인' '소드 아트 온라인' '도쿄 구울' '나루토' '원피스' 등 인기 애니메이션을 회차별 결제 없이 월 9900원에 볼 수 있다. \n",
      "\n",
      "제공 OTT를 지속 확대할 계획이다. 왓챠플레이와 웨이브는 토핑에서 유료 가입·시청할 수 있다. 유튜브는 무료로 서비스한다. 토핑에서 고객은 원하는 OTT를 직접 선택, 이용 가능하다. \n",
      "\n",
      "SK텔레콤과 KT 등 국내 통신사와 유료방송 플랫폼은 내년 국내 서비스를 준비 중인 것으로 알려진 디즈니+와 서비스 제휴를 타진하고 있다. \n",
      "\n",
      "유료방송 관계자는 “플랫폼 경쟁력은 콘텐츠가 좌우하고 OTT는 더 많은 고객과 접점을 필요로 한다”며 “현재로선 유료방송 플랫폼과 OTT가 대체재가 아닌 보완재 성격이 짙은 만큼 더 많은 협업이 이뤄질 것”이라고 전망했다. \n",
      "\n",
      "박종진기자 truth@etnews.com \n",
      "\n"
     ]
    }
   ],
   "source": [
    "for i in root.xpath('//*[@id=\"harmonyContainer\"]/section/p'):\n",
    "    print(i.text, '\\n')"
   ]
  }
 ],
 "metadata": {
  "kernelspec": {
   "display_name": "Python 3",
   "language": "python",
   "name": "python3"
  },
  "language_info": {
   "codemirror_mode": {
    "name": "ipython",
    "version": 3
   },
   "file_extension": ".py",
   "mimetype": "text/x-python",
   "name": "python",
   "nbconvert_exporter": "python",
   "pygments_lexer": "ipython3",
   "version": "3.7.6"
  }
 },
 "nbformat": 4,
 "nbformat_minor": 4
}
