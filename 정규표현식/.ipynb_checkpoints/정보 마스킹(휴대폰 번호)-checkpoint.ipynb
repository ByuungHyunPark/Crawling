{
 "cells": [
  {
   "cell_type": "markdown",
   "metadata": {},
   "source": [
    "##### 전화번호 마스킹\n",
    "- 000-****-0000"
   ]
  },
  {
   "cell_type": "code",
   "execution_count": 9,
   "metadata": {},
   "outputs": [
    {
     "data": {
      "text/plain": [
       "'010-****-5678'"
      ]
     },
     "execution_count": 9,
     "metadata": {},
     "output_type": "execute_result"
    }
   ],
   "source": [
    "import re\n",
    "\n",
    "phoneNum = '010-1234-5678'\n",
    "\n",
    "#세개의 그룹으로 묶었다고 생각하면 쉬움\n",
    "#두번째 그룹(가운데 숫자)는 ****로 subtitute\n",
    "\n",
    "re.sub(\"(\\d{3})-(\\d{4})-(\\d{4})\", r\"\\1-****-\\3\", phoneNum)"
   ]
  },
  {
   "cell_type": "markdown",
   "metadata": {},
   "source": [
    "- 000-00**-0000"
   ]
  },
  {
   "cell_type": "code",
   "execution_count": 10,
   "metadata": {},
   "outputs": [
    {
     "data": {
      "text/plain": [
       "'010-12**-5678'"
      ]
     },
     "execution_count": 10,
     "metadata": {},
     "output_type": "execute_result"
    }
   ],
   "source": [
    "re.sub(\"(\\d{3})-(\\d{2})(\\d{2})-(\\d{4})\", r\"\\1-\\2**-\\4\", phoneNum)"
   ]
  },
  {
   "cell_type": "markdown",
   "metadata": {},
   "source": [
    "##### 국제번호 mask_phone_number라는 함수를 생성해서 처리"
   ]
  },
  {
   "cell_type": "code",
   "execution_count": 31,
   "metadata": {},
   "outputs": [
    {
     "data": {
      "text/plain": [
       "'+82-10-****-**78'"
      ]
     },
     "execution_count": 31,
     "metadata": {},
     "output_type": "execute_result"
    }
   ],
   "source": [
    "import pandas as pd\n",
    "\n",
    "phone = \"+82-10-1234-5678\"\n",
    "\n",
    "def mask_phone_number(phone):\n",
    "    \n",
    "\n",
    "    num = phone.split(\"-\")\n",
    "    num_len = len(num) // 2  # int(num/2)와 동일\n",
    "\n",
    "    num[num_len] = re.sub(\"\\w\", \"*\", num[num_len])\n",
    "    num[-1] = re.sub(\"(\\d{2})(\\d{2})\", r\"**\\2\", num[-1])\n",
    "    \n",
    "    \n",
    "    return \"-\".join(num)\n",
    "\n",
    "mask_phone_number(phone)"
   ]
  },
  {
   "cell_type": "markdown",
   "metadata": {},
   "source": [
    "##### 휴대폰 가운데 번호만 가져오기"
   ]
  },
  {
   "cell_type": "code",
   "execution_count": 34,
   "metadata": {},
   "outputs": [
    {
     "data": {
      "text/plain": [
       "'010-****-5678'"
      ]
     },
     "execution_count": 34,
     "metadata": {},
     "output_type": "execute_result"
    }
   ],
   "source": [
    "phoneNum = '010-1234-5678'\n",
    "\n",
    "pattern = \"(\\d{3})-(\\d{4})-(\\d{4})\"\n",
    "\n",
    "re.sub(pattern, r\"\\1-****-\\3\", phoneNum)"
   ]
  },
  {
   "cell_type": "code",
   "execution_count": 38,
   "metadata": {},
   "outputs": [
    {
     "data": {
      "text/plain": [
       "['1234', '5678']"
      ]
     },
     "execution_count": 38,
     "metadata": {},
     "output_type": "execute_result"
    }
   ],
   "source": [
    "re.findall(\"(\\d{4})\", phoneNum)"
   ]
  },
  {
   "cell_type": "code",
   "execution_count": null,
   "metadata": {},
   "outputs": [],
   "source": []
  }
 ],
 "metadata": {
  "kernelspec": {
   "display_name": "Python 3",
   "language": "python",
   "name": "python3"
  },
  "language_info": {
   "codemirror_mode": {
    "name": "ipython",
    "version": 3
   },
   "file_extension": ".py",
   "mimetype": "text/x-python",
   "name": "python",
   "nbconvert_exporter": "python",
   "pygments_lexer": "ipython3",
   "version": "3.8.5"
  }
 },
 "nbformat": 4,
 "nbformat_minor": 4
}
