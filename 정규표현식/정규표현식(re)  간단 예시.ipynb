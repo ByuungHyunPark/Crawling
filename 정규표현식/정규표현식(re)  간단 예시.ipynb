{
 "cells": [
  {
   "cell_type": "code",
   "execution_count": 11,
   "metadata": {},
   "outputs": [],
   "source": [
    "import re"
   ]
  },
  {
   "cell_type": "markdown",
   "metadata": {},
   "source": [
    "# 1. 텍스트 한글만 추출"
   ]
  },
  {
   "cell_type": "code",
   "execution_count": 26,
   "metadata": {},
   "outputs": [],
   "source": [
    "txt = '동A해물과! 백두D산이 마르Z고123 닳도록ABC'"
   ]
  },
  {
   "cell_type": "markdown",
   "metadata": {},
   "source": [
    "#### 공백이랑 한글 빼고 모두 공백으로 변환\n",
    "\n",
    "- sub : substitue 약어로 대체되는 것을 말함"
   ]
  },
  {
   "cell_type": "code",
   "execution_count": 35,
   "metadata": {},
   "outputs": [
    {
     "name": "stdout",
     "output_type": "stream",
     "text": [
      "동해물과 백두산이 마르고 닳도록\n"
     ]
    }
   ],
   "source": [
    "re_pattern = re.compile(r'[^ 가-힣]')\n",
    "re_txt = re.sub(pattern = re_pattern,\n",
    "       repl = '',\n",
    "       string = txt)\n",
    "print(re_txt)"
   ]
  },
  {
   "cell_type": "markdown",
   "metadata": {},
   "source": [
    "# 2. 전화번호 추출"
   ]
  },
  {
   "cell_type": "code",
   "execution_count": 43,
   "metadata": {},
   "outputs": [
    {
     "data": {
      "text/plain": [
       "['010-1234-5678']"
      ]
     },
     "execution_count": 43,
     "metadata": {},
     "output_type": "execute_result"
    }
   ],
   "source": [
    "txt_2 = '내 전화번호는 010-1234-5678이다 . '\n",
    "\n",
    "phone_pattern = re.compile('\\d{3}-\\d{4}-\\d{4}')\n",
    "\n",
    "re.findall(pattern = phone_pattern,\n",
    "            string = txt_2)"
   ]
  },
  {
   "cell_type": "markdown",
   "metadata": {},
   "source": [
    "# 3. 이메일 추출"
   ]
  },
  {
   "cell_type": "code",
   "execution_count": 48,
   "metadata": {},
   "outputs": [
    {
     "data": {
      "text/plain": [
       "['qudgus8672@naver.com']"
      ]
     },
     "execution_count": 48,
     "metadata": {},
     "output_type": "execute_result"
    }
   ],
   "source": [
    "txt_3 = '내 이메일 주소는 qudgus8672@naver.com 이다. '\n",
    "\n",
    "email_pattern = re.compile('[a-zA-Z0-9]+@[a-zA-Z0-9]+\\.[a-zA-Z0-9]+')\n",
    "\n",
    "re.findall(pattern=email_pattern,\n",
    "           string = txt_3)"
   ]
  }
 ],
 "metadata": {
  "kernelspec": {
   "display_name": "Python 3",
   "language": "python",
   "name": "python3"
  },
  "language_info": {
   "codemirror_mode": {
    "name": "ipython",
    "version": 3
   },
   "file_extension": ".py",
   "mimetype": "text/x-python",
   "name": "python",
   "nbconvert_exporter": "python",
   "pygments_lexer": "ipython3",
   "version": "3.7.6"
  }
 },
 "nbformat": 4,
 "nbformat_minor": 4
}
