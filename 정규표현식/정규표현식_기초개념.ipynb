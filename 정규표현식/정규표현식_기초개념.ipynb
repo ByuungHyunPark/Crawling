{
 "cells": [
  {
   "cell_type": "markdown",
   "metadata": {},
   "source": [
    "https://wikidocs.net/4308"
   ]
  },
  {
   "cell_type": "markdown",
   "metadata": {},
   "source": [
    "# 정규표현식의 기초, 메타 문자\n",
    "정규 표현식에서 사용하는 메타 문자(meta characters)에는 다음과 같은 것이 있따.\n",
    "\n",
    "- __메타 문자__ : 원래 그 문자가 가진 뜻이 아닌 특별한 용도로 사용하는 문자"
   ]
  },
  {
   "cell_type": "raw",
   "metadata": {},
   "source": [
    ". ^ $ * + ? { } [ ] \\ | ( )"
   ]
  },
  {
   "cell_type": "markdown",
   "metadata": {},
   "source": [
    "정규 표현식에 위 메타 문자를 사용하면 특별한 의미를 갖게 된다."
   ]
  },
  {
   "cell_type": "markdown",
   "metadata": {},
   "source": [
    "### 문자 클래스 []\n",
    "문자 클래스로 만들어진 정규식은 __[ ] 사이의 문자들과 매치__라는 의미를 갖는다.\n",
    "\n",
    "가장 대표적인 예시로는 \n",
    "- [0-9] : 숫자만 표시\n",
    "- [a-zA-Z] : 알파벳 모두\n",
    "- [가-힣] : 한글 모두\n",
    "___\n",
    "### 자주 사용되는 문자 클래스\n",
    "[0-9] 또는 [a-zA-Z]등은 자주 사용되므로 아래와 같이 별도의 표기법을 표현 가능\n",
    "- \\d - 숫자와 매치, [0-9]와 동일한 표현식이다.\n",
    "- \\D - 숫자가 아닌 것과 매치, [^0-9]와 동일한 표현식이다.\n",
    "- \\s - whitespace 문자와 매치, [ \\t\\n\\r\\f\\v]와 동일한 표현식이다. 맨 앞의 빈 칸은 공백문자(space)를 의미한다.\n",
    "- \\S - whitespace 문자가 아닌 것과 매치, [^ \\t\\n\\r\\f\\v]와 동일한 표현식이다.\n",
    "- \\w - 문자+숫자(alphanumeric)와 매치, [a-zA-Z0-9_]와 동일한 표현식이다.\n",
    "- \\W - 문자+숫자(alphanumeric)가 아닌 문자와 매치, [^a-zA-Z0-9_]와 동일한 표현식이다.\n",
    "\n",
    "대문자로 사용된 것은 소문자의 반대임을 추측할 수 있다.\n",
    "___"
   ]
  },
  {
   "cell_type": "markdown",
   "metadata": {},
   "source": [
    "# Dot(.)"
   ]
  },
  {
   "cell_type": "raw",
   "metadata": {},
   "source": [
    "a.b"
   ]
  },
  {
   "cell_type": "markdown",
   "metadata": {},
   "source": [
    "위 정규식의 의미는\n",
    "#### \"a + 모든문자 + b\" 라는 의미와 같다.\n",
    "단 , 줄바꿈 문자인 \\n은 제외"
   ]
  },
  {
   "cell_type": "markdown",
   "metadata": {},
   "source": [
    "# 반복 (*)"
   ]
  },
  {
   "cell_type": "raw",
   "metadata": {},
   "source": [
    "ca*t"
   ]
  },
  {
   "cell_type": "markdown",
   "metadata": {},
   "source": [
    "위 정규식에서 사용되는 *는 * 바로 앞에 있는 문자 a가 0번~무한번 반복사용 가능하다는 의미\n",
    "- ct , cat, caat, caaaat, caaaaaaaaaaaaaaat 등이 매치됨"
   ]
  },
  {
   "cell_type": "markdown",
   "metadata": {},
   "source": [
    "# 반복(+)"
   ]
  },
  {
   "cell_type": "raw",
   "metadata": {},
   "source": [
    "ca+t"
   ]
  },
  {
   "cell_type": "markdown",
   "metadata": {},
   "source": [
    "위에서 배운 *와 거의 유사하지만 , 최소 한번은 나와야함\n",
    "- __따라서 , ct는 매칭이 안된다는것이 매우 중요__\n",
    "- cat, caat, caaaat, caaaaaaaaaaaat등 매칭됨"
   ]
  },
  {
   "cell_type": "markdown",
   "metadata": {},
   "source": [
    "# 반복 ({m,n}, ?)\n",
    "\n",
    "위의 cat예시와 비슷한데,  반복횟수를 m과 n값으로 직접 고정시켜줄 수 있다.\n",
    "- m또는 n을 생략할 수 있다.\n",
    "- {3,}는 반복횟수가 3회 이상\n",
    "- {,3}는 반복횟수가 3회 이하\n",
    "- 생략된 m은 0과 동일\n",
    "- 생략된 n은 무한대의 의미와 동일"
   ]
  },
  {
   "cell_type": "markdown",
   "metadata": {},
   "source": [
    "##### 1. {m}"
   ]
  },
  {
   "cell_type": "raw",
   "metadata": {},
   "source": [
    "ca{2}t"
   ]
  },
  {
   "cell_type": "markdown",
   "metadata": {},
   "source": [
    "위 정규식의 의미는 다음과 같다.\n",
    "> \"c + a(반드시 2번 반복) + t\"\n",
    "\n",
    "- 따라서 , cat는 안됨\n",
    "- caat, caaat , caaaaaat 등등 a가 2번이상 반복되는것과 매칭"
   ]
  },
  {
   "cell_type": "markdown",
   "metadata": {},
   "source": [
    "##### 2. {m,n}"
   ]
  },
  {
   "cell_type": "markdown",
   "metadata": {},
   "source": [
    "ca{2,4}t"
   ]
  },
  {
   "cell_type": "markdown",
   "metadata": {},
   "source": [
    "위 정규식의 의미는 다음과 같다.\n",
    "> \"c + a(2~4회 반복) + t\"\n",
    "\n",
    "- cat, caaaaat는 매칭 안됨\n",
    "- caat , caaat , caaaa , 즉  a가 2번이상 5회이하반복되는것과 매칭"
   ]
  },
  {
   "cell_type": "markdown",
   "metadata": {},
   "source": [
    "##### 3. __?__\n",
    "- 반복은 아니지만 비슷한 개념으로 , {0,1}을 의미함\n",
    "- 즉, 있어도 되고 없어도 된다."
   ]
  },
  {
   "cell_type": "markdown",
   "metadata": {},
   "source": [
    "ca?t"
   ]
  },
  {
   "cell_type": "markdown",
   "metadata": {},
   "source": [
    "ct, cat 만 match가 된다."
   ]
  }
 ],
 "metadata": {
  "kernelspec": {
   "display_name": "Python 3",
   "language": "python",
   "name": "python3"
  },
  "language_info": {
   "codemirror_mode": {
    "name": "ipython",
    "version": 3
   },
   "file_extension": ".py",
   "mimetype": "text/x-python",
   "name": "python",
   "nbconvert_exporter": "python",
   "pygments_lexer": "ipython3",
   "version": "3.7.6"
  }
 },
 "nbformat": 4,
 "nbformat_minor": 4
}
